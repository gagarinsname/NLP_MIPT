{
 "cells": [
  {
   "cell_type": "markdown",
   "metadata": {},
   "source": [
    "## Deep learning for Natural Language Processing\n",
    "\n",
    "* Simple text representations, bag of words\n",
    "* Word embedding and... not just another word2vec this time rnn for text\n",
    "* Aggregating several data sources \"the hard way\"\n",
    "* Solving ~somewhat~ real ML problem with ~almost~ end-to-end deep learning\n",
    "\n",
    "Special thanks to Irina Golzmann for help with technical part, task prepared by Александр Панин, jheuristic@yandex-team.ru\n",
    "NLTK\n",
    "\n",
    "You will require nltk v3.2 to solve this assignment\n",
    "\n",
    "It is really important that the version is 3.2, otherwize russian tokenizer might not work\n",
    "\n",
    "## Install/update\n",
    "\n",
    "* sudo pip install --upgrade nltk==3.2\n",
    "* If you don't remember when was the last pip upgrade, sudo pip install --upgrade pip\n",
    "\n",
    "If for some reason you can't or won't switch to nltk v3.2, just make sure that russian words are tokenized properly with RegeExpTokenizer.\n",
    "\n",
    "## For students with low-RAM machines\n",
    "\n",
    "* This assignment can be accomplished with even the low-tier hardware (<= 4Gb RAM)\n",
    "* If that is the case, turn flag \"low_RAM_mode\" below to True\n",
    "* If you have around 8GB memory, it is unlikely that you will feel constrained by memory.\n",
    "* In case you are using a PC from last millenia, consider setting very_low_RAM=True\n",
    "\n"
   ]
  },
  {
   "cell_type": "code",
   "execution_count": 4,
   "metadata": {
    "collapsed": true
   },
   "outputs": [],
   "source": [
    "low_RAM_mode = True\n",
    "very_low_RAM = False  #If you have <3GB RAM, set BOTH to true"
   ]
  },
  {
   "cell_type": "code",
   "execution_count": 5,
   "metadata": {
    "collapsed": true
   },
   "outputs": [],
   "source": [
    "import pandas as pd\n",
    "import numpy as np\n",
    "import matplotlib.pyplot as plt\n",
    "%matplotlib inline"
   ]
  },
  {
   "cell_type": "markdown",
   "metadata": {},
   "source": [
    "## Dataset\n",
    "\n",
    "Ex-kaggle-competition on prohibited content detection\n",
    "There goes the description - https://www.kaggle.com/c/avito-prohibited-content\n",
    "\n",
    "### Download\n",
    "\n",
    "High-RAM mode,\n",
    "* Download avito_train.tsv from competition data files Low-RAM-mode,\n",
    "* Download downsampled dataset from here\n",
    "    * archive https://yadi.sk/d/l0p4lameqw3W8\n",
    "    * raw https://yadi.sk/d/I1v7mZ6Sqw2WK (in case you feel masochistic)\n",
    "\n",
    "## What's inside\n",
    "\n",
    "Different kinds of features:\n",
    "\n",
    "* 2 text fields - title and description\n",
    "* Special features - price, number of e-mails, phones, etc\n",
    "* Category and subcategory - unsurprisingly, categorical features\n",
    "* Attributes - more factors\n",
    "\n",
    "Only 1 binary target whether or not such advertisement contains prohibited materials\n",
    "\n",
    "* criminal, misleading, human reproduction-related, etc\n",
    "* diving into the data may result in prolonged sleep disorders\n",
    "\n"
   ]
  },
  {
   "cell_type": "code",
   "execution_count": 6,
   "metadata": {
    "collapsed": true
   },
   "outputs": [],
   "source": [
    "if not low_RAM_mode:\n",
    "    # a lot of ram\n",
    "    df = pd.read_csv(\"avito_train.tsv\",sep='\\t')\n",
    "else:\n",
    "    #aroung 4GB ram\n",
    "    df = pd.read_csv(\"../../avito_train_1kk.tsv\",sep='\\t')"
   ]
  },
  {
   "cell_type": "code",
   "execution_count": 7,
   "metadata": {},
   "outputs": [
    {
     "name": "stdout",
     "output_type": "stream",
     "text": [
      "(1204949, 13) 0.228222107326\n"
     ]
    },
    {
     "data": {
      "text/html": [
       "<div>\n",
       "<style>\n",
       "    .dataframe thead tr:only-child th {\n",
       "        text-align: right;\n",
       "    }\n",
       "\n",
       "    .dataframe thead th {\n",
       "        text-align: left;\n",
       "    }\n",
       "\n",
       "    .dataframe tbody tr th {\n",
       "        vertical-align: top;\n",
       "    }\n",
       "</style>\n",
       "<table border=\"1\" class=\"dataframe\">\n",
       "  <thead>\n",
       "    <tr style=\"text-align: right;\">\n",
       "      <th></th>\n",
       "      <th>itemid</th>\n",
       "      <th>category</th>\n",
       "      <th>subcategory</th>\n",
       "      <th>title</th>\n",
       "      <th>description</th>\n",
       "      <th>attrs</th>\n",
       "      <th>price</th>\n",
       "      <th>is_proved</th>\n",
       "      <th>is_blocked</th>\n",
       "      <th>phones_cnt</th>\n",
       "      <th>emails_cnt</th>\n",
       "      <th>urls_cnt</th>\n",
       "      <th>close_hours</th>\n",
       "    </tr>\n",
       "  </thead>\n",
       "  <tbody>\n",
       "    <tr>\n",
       "      <th>0</th>\n",
       "      <td>10000010</td>\n",
       "      <td>Транспорт</td>\n",
       "      <td>Автомобили с пробегом</td>\n",
       "      <td>Toyota Sera, 1991</td>\n",
       "      <td>Новая оригинальная линзованая оптика на ксенон...</td>\n",
       "      <td>{\"Год выпуска\":\"1991\", \"Тип кузова\":\"Купе\", \"П...</td>\n",
       "      <td>150000</td>\n",
       "      <td>NaN</td>\n",
       "      <td>0</td>\n",
       "      <td>0</td>\n",
       "      <td>0</td>\n",
       "      <td>0</td>\n",
       "      <td>0.03</td>\n",
       "    </tr>\n",
       "    <tr>\n",
       "      <th>1</th>\n",
       "      <td>10000094</td>\n",
       "      <td>Личные вещи</td>\n",
       "      <td>Одежда, обувь, аксессуары</td>\n",
       "      <td>Костюм Steilmann</td>\n",
       "      <td>Юбка и топ из панбархата. Под топ  трикотажная...</td>\n",
       "      <td>{\"Вид одежды\":\"Женская одежда\", \"Предмет одежд...</td>\n",
       "      <td>1500</td>\n",
       "      <td>NaN</td>\n",
       "      <td>0</td>\n",
       "      <td>0</td>\n",
       "      <td>0</td>\n",
       "      <td>0</td>\n",
       "      <td>0.41</td>\n",
       "    </tr>\n",
       "    <tr>\n",
       "      <th>2</th>\n",
       "      <td>10000299</td>\n",
       "      <td>Личные вещи</td>\n",
       "      <td>Детская одежда и обувь</td>\n",
       "      <td>Костюм Didriksons Boardman, размер 100, краги,...</td>\n",
       "      <td>Костюм Didriksons Boardman, в отличном состоян...</td>\n",
       "      <td>{\"Вид одежды\":\"Для мальчиков\", \"Предмет одежды...</td>\n",
       "      <td>3000</td>\n",
       "      <td>NaN</td>\n",
       "      <td>0</td>\n",
       "      <td>0</td>\n",
       "      <td>0</td>\n",
       "      <td>0</td>\n",
       "      <td>5.49</td>\n",
       "    </tr>\n",
       "    <tr>\n",
       "      <th>3</th>\n",
       "      <td>10000309</td>\n",
       "      <td>Недвижимость</td>\n",
       "      <td>Квартиры</td>\n",
       "      <td>1-к квартира, 44 м², 9/20 эт.</td>\n",
       "      <td>В кирпичном пан.-м доме, продается одноком.-ая...</td>\n",
       "      <td>{\"Тип объявления\":\"Продам\", \"Количество комнат...</td>\n",
       "      <td>2642020</td>\n",
       "      <td>NaN</td>\n",
       "      <td>0</td>\n",
       "      <td>1</td>\n",
       "      <td>0</td>\n",
       "      <td>0</td>\n",
       "      <td>22.47</td>\n",
       "    </tr>\n",
       "    <tr>\n",
       "      <th>4</th>\n",
       "      <td>10000317</td>\n",
       "      <td>Услуги</td>\n",
       "      <td>Предложения услуг</td>\n",
       "      <td>Поездки на таможню, печать в паспорте</td>\n",
       "      <td>Поездки на таможню гражданам СНГ для пересечен...</td>\n",
       "      <td>{\"Вид услуги\":\"Деловые услуги\", \"Тип услуги\":\"...</td>\n",
       "      <td>1500</td>\n",
       "      <td>0.0</td>\n",
       "      <td>1</td>\n",
       "      <td>0</td>\n",
       "      <td>0</td>\n",
       "      <td>0</td>\n",
       "      <td>1.43</td>\n",
       "    </tr>\n",
       "  </tbody>\n",
       "</table>\n",
       "</div>"
      ],
      "text/plain": [
       "     itemid      category                subcategory  \\\n",
       "0  10000010     Транспорт      Автомобили с пробегом   \n",
       "1  10000094   Личные вещи  Одежда, обувь, аксессуары   \n",
       "2  10000299   Личные вещи     Детская одежда и обувь   \n",
       "3  10000309  Недвижимость                   Квартиры   \n",
       "4  10000317        Услуги          Предложения услуг   \n",
       "\n",
       "                                               title  \\\n",
       "0                                  Toyota Sera, 1991   \n",
       "1                                   Костюм Steilmann   \n",
       "2  Костюм Didriksons Boardman, размер 100, краги,...   \n",
       "3                      1-к квартира, 44 м², 9/20 эт.   \n",
       "4              Поездки на таможню, печать в паспорте   \n",
       "\n",
       "                                         description  \\\n",
       "0  Новая оригинальная линзованая оптика на ксенон...   \n",
       "1  Юбка и топ из панбархата. Под топ  трикотажная...   \n",
       "2  Костюм Didriksons Boardman, в отличном состоян...   \n",
       "3  В кирпичном пан.-м доме, продается одноком.-ая...   \n",
       "4  Поездки на таможню гражданам СНГ для пересечен...   \n",
       "\n",
       "                                               attrs    price  is_proved  \\\n",
       "0  {\"Год выпуска\":\"1991\", \"Тип кузова\":\"Купе\", \"П...   150000        NaN   \n",
       "1  {\"Вид одежды\":\"Женская одежда\", \"Предмет одежд...     1500        NaN   \n",
       "2  {\"Вид одежды\":\"Для мальчиков\", \"Предмет одежды...     3000        NaN   \n",
       "3  {\"Тип объявления\":\"Продам\", \"Количество комнат...  2642020        NaN   \n",
       "4  {\"Вид услуги\":\"Деловые услуги\", \"Тип услуги\":\"...     1500        0.0   \n",
       "\n",
       "   is_blocked  phones_cnt  emails_cnt  urls_cnt  close_hours  \n",
       "0           0           0           0         0         0.03  \n",
       "1           0           0           0         0         0.41  \n",
       "2           0           0           0         0         5.49  \n",
       "3           0           1           0         0        22.47  \n",
       "4           1           0           0         0         1.43  "
      ]
     },
     "execution_count": 7,
     "metadata": {},
     "output_type": "execute_result"
    }
   ],
   "source": [
    "print(df.shape, df.is_blocked.mean())\n",
    "df[:5]"
   ]
  },
  {
   "cell_type": "code",
   "execution_count": 8,
   "metadata": {},
   "outputs": [
    {
     "name": "stdout",
     "output_type": "stream",
     "text": [
      "Blocked ratio 0.228222107326\n",
      "Count: 1204949\n"
     ]
    }
   ],
   "source": [
    "print(\"Blocked ratio\",df.is_blocked.mean())\n",
    "print(\"Count:\",len(df))"
   ]
  },
  {
   "cell_type": "markdown",
   "metadata": {},
   "source": [
    "\n",
    "## Balance-out the classes\n",
    "\n",
    "* Vast majority of data samples are non-prohibited\n",
    "    * 250k banned out of 4kk\n",
    "    * Let's just downsample random 250k legal samples to make further steps less computationally demanding\n",
    "    * If you aim for high Kaggle score, consider a smarter approach to that."
   ]
  },
  {
   "cell_type": "code",
   "execution_count": 9,
   "metadata": {
    "collapsed": true
   },
   "outputs": [],
   "source": [
    "def print_subc(data):\n",
    "    # subc = '\\n'.join([cat for cat in data.subcategory.unique()])\n",
    "    return pd.Series(data.subcategory.unique())"
   ]
  },
  {
   "cell_type": "code",
   "execution_count": 10,
   "metadata": {},
   "outputs": [
    {
     "name": "stdout",
     "output_type": "stream",
     "text": [
      "category              \n",
      "Бытовая электроника  0                   Аудио и видео\n",
      "                     1                        Телефоны\n",
      "                     2    Планшеты и электронные книги\n",
      "                     3     Игры, приставки и программы\n",
      "                     4         Оргтехника и расходники\n",
      "                     5           Товары для компьютера\n",
      "                     6                        Ноутбуки\n",
      "                     7           Настольные компьютеры\n",
      "                     8                     Фототехника\n",
      "Для бизнеса          0        Оборудование для бизнеса\n",
      "                     1                Продукты питания\n",
      "                     2                  Готовый бизнес\n",
      "Для дома и дачи      0               Мебель и интерьер\n",
      "                     1          Ремонт и строительство\n",
      "                     2                 Бытовая техника\n",
      "                     3       Посуда и товары для кухни\n",
      "                     4                        Растения\n",
      "                     5                Продукты питания\n",
      "Животные             0                        Аквариум\n",
      "                     1                          Собаки\n",
      "                     2                           Кошки\n",
      "                     3                 Другие животные\n",
      "                     4                           Птицы\n",
      "                     5             Товары для животных\n",
      "Личные вещи          0       Одежда, обувь, аксессуары\n",
      "                     1          Детская одежда и обувь\n",
      "                     2                Часы и украшения\n",
      "                     3              Красота и здоровье\n",
      "                     4      Товары для детей и игрушки\n",
      "Недвижимость         0                        Квартиры\n",
      "                     1                         Комнаты\n",
      "                     2       Коммерческая недвижимость\n",
      "                     3            Гаражи и машиноместа\n",
      "                     4            Дома, дачи, коттеджи\n",
      "                     5               Земельные участки\n",
      "                     6         Недвижимость за рубежом\n",
      "Работа               0                        Вакансии\n",
      "                     1                          Резюме\n",
      "Транспорт            0           Автомобили с пробегом\n",
      "                     1           Запчасти и аксессуары\n",
      "                     2         Грузовики и спецтехника\n",
      "                     3                Новые автомобили\n",
      "                     4         Мотоциклы и мототехника\n",
      "                     5                Водный транспорт\n",
      "Услуги               0               Предложения услуг\n",
      "                     1               Запросы на услуги\n",
      "Хобби и отдых        0            Билеты и путешествия\n",
      "                     1                 Охота и рыбалка\n",
      "                     2                   Спорт и отдых\n",
      "                     3              Коллекционирование\n",
      "                     4                      Знакомства\n",
      "                     5         Музыкальные инструменты\n",
      "                     6                 Книги и журналы\n",
      "                     7                      Велосипеды\n",
      "dtype: object\n"
     ]
    }
   ],
   "source": [
    "df_groups = df.groupby('category', sort=False)\n",
    "print(df_groups.apply(print_subc).sort_index())"
   ]
  },
  {
   "cell_type": "code",
   "execution_count": 11,
   "metadata": {},
   "outputs": [
    {
     "name": "stdout",
     "output_type": "stream",
     "text": [
      "category\n",
      "Бытовая электроника      7510\n",
      "Для бизнеса             13011\n",
      "Для дома и дачи          6899\n",
      "Животные                 3349\n",
      "Личные вещи             23440\n",
      "Недвижимость             1427\n",
      "Работа                  19843\n",
      "Транспорт               18036\n",
      "Услуги                 124402\n",
      "Хобби и отдых           57079\n",
      "dtype: int64\n",
      "category\n",
      "Бытовая электроника     93621\n",
      "Для бизнеса             13509\n",
      "Для дома и дачи         54399\n",
      "Животные                29027\n",
      "Личные вещи            144348\n",
      "Недвижимость           286351\n",
      "Работа                  57934\n",
      "Транспорт              167078\n",
      "Услуги                  48623\n",
      "Хобби и отдых           35063\n",
      "dtype: int64\n"
     ]
    }
   ],
   "source": [
    "ans = [bool(1-r[1]) for r in df.is_blocked.iteritems()]\n",
    "df_0 = df[ans]\n",
    "\n",
    "ans = [bool(r[1]) for r in df.is_blocked.iteritems()]\n",
    "df_1 = df[ans]\n",
    "divisor = len(df_1)\n",
    "\n",
    "def countCategory(data):\n",
    "    return len(data.category)\n",
    "\n",
    "df_groups = df_1.groupby('category', sort=False)\n",
    "blockedCatNum = df_groups.apply(countCategory).sort_index()\n",
    "notBlockedCatNum = df_0.groupby('category', sort=False).apply(countCategory).sort_index()\n",
    "print(blockedCatNum)\n",
    "print(notBlockedCatNum)"
   ]
  },
  {
   "cell_type": "code",
   "execution_count": 12,
   "metadata": {},
   "outputs": [
    {
     "data": {
      "text/plain": [
       "'\\n## A simple approach\\ndef filterData(data):\\n    subSize = len(data)\\n    categoryName = data.category.iloc[0]\\n    is_blocked = bool(data.is_blocked.iloc[0])\\n    if not is_blocked:\\n        sampleSize = blockedCatNum[categoryName]\\n        if subSize >= sampleSize:\\n            data = data.sample(sampleSize, random_state=0)\\n    return data\\n\\ndf_groups = df.groupby([\\'category\\', \\'is_blocked\\'], sort=False, as_index=False)\\nres = df_groups.apply(filterData)\\naddition = df_0.sample(residual, random_state=0)\\nres = pd.concat([res, addition])\\n\\nprint(residual)\\nprint(\"Blocked ratio:\",res.is_blocked.mean())\\nprint(\"Count:\",len(res))\\n'"
      ]
     },
     "execution_count": 12,
     "metadata": {},
     "output_type": "execute_result"
    }
   ],
   "source": [
    "'''\n",
    "## A simple approach\n",
    "def filterData(data):\n",
    "    subSize = len(data)\n",
    "    categoryName = data.category.iloc[0]\n",
    "    is_blocked = bool(data.is_blocked.iloc[0])\n",
    "    if not is_blocked:\n",
    "        sampleSize = blockedCatNum[categoryName]\n",
    "        if subSize >= sampleSize:\n",
    "            data = data.sample(sampleSize, random_state=0)\n",
    "    return data\n",
    "\n",
    "df_groups = df.groupby(['category', 'is_blocked'], sort=False, as_index=False)\n",
    "res = df_groups.apply(filterData)\n",
    "addition = df_0.sample(residual, random_state=0)\n",
    "res = pd.concat([res, addition])\n",
    "\n",
    "print(residual)\n",
    "print(\"Blocked ratio:\",res.is_blocked.mean())\n",
    "print(\"Count:\",len(res))\n",
    "'''"
   ]
  },
  {
   "cell_type": "code",
   "execution_count": 13,
   "metadata": {},
   "outputs": [
    {
     "name": "stdout",
     "output_type": "stream",
     "text": [
      "Blocked ratio: 0.503434387815\n",
      "Count: 546240\n"
     ]
    }
   ],
   "source": [
    "# A randomized approach, very naive though\n",
    "from numpy.random import poisson\n",
    "\n",
    "def filterData(data):\n",
    "    subSize = len(data)\n",
    "    categoryName = data.category.iloc[0]\n",
    "    is_blocked = bool(data.is_blocked.iloc[0])\n",
    "    if not is_blocked:\n",
    "        sampleSize = blockedCatNum[categoryName]\n",
    "        if subSize >= sampleSize:\n",
    "            sigma = (subSize - sampleSize) // 8 # MAGIC NUMBER\n",
    "            data = data.sample(sampleSize + poisson(sigma), random_state=0)\n",
    "    return data\n",
    "\n",
    "df_groups = df.groupby(['category', 'is_blocked'], sort=False, as_index=False)\n",
    "res = df_groups.apply(filterData)\n",
    "\n",
    "print(\"Blocked ratio:\",res.is_blocked.mean())\n",
    "print(\"Count:\",len(res))"
   ]
  },
  {
   "cell_type": "code",
   "execution_count": 14,
   "metadata": {},
   "outputs": [
    {
     "name": "stdout",
     "output_type": "stream",
     "text": [
      "Blocked ratio: 0.503434387815\n",
      "Count: 546240\n"
     ]
    }
   ],
   "source": [
    "#downsample\n",
    "\n",
    "## use categories\n",
    "\n",
    "# < downsample data so that both classes have approximately equal ratios>\n",
    "\n",
    "# df = <downsampled dataset>\n",
    "df = res.reset_index(drop=True)\n",
    "\n",
    "\n",
    "print(\"Blocked ratio:\",df.is_blocked.mean())\n",
    "print(\"Count:\",len(df))\n"
   ]
  },
  {
   "cell_type": "code",
   "execution_count": 15,
   "metadata": {},
   "outputs": [
    {
     "name": "stdout",
     "output_type": "stream",
     "text": [
      "All tests passed\n"
     ]
    }
   ],
   "source": [
    "assert df.is_blocked.mean() < 0.51\n",
    "assert df.is_blocked.mean() > 0.49\n",
    "assert len(df) <= 560000\n",
    "\n",
    "print(\"All tests passed\")"
   ]
  },
  {
   "cell_type": "code",
   "execution_count": 16,
   "metadata": {
    "collapsed": true
   },
   "outputs": [],
   "source": [
    "#In case your RAM-o-meter is in the red\n",
    "# if very_low_ram:\n",
    "#     data = data[::2]"
   ]
  },
  {
   "cell_type": "markdown",
   "metadata": {},
   "source": [
    "## Tokenizing\n",
    "\n",
    "First, we create a dictionary of all existing words. Assign each word a number - it's Id"
   ]
  },
  {
   "cell_type": "code",
   "execution_count": 17,
   "metadata": {
    "collapsed": true
   },
   "outputs": [],
   "source": [
    "from nltk.tokenize import RegexpTokenizer\n",
    "from collections import Counter,defaultdict\n",
    "tokenizer = RegexpTokenizer(r\"\\w+\")\n",
    "\n",
    "#Dictionary of tokens\n",
    "token_counts = Counter()\n",
    "\n",
    "#All texts\n",
    "all_texts = np.hstack([df.description.values,df.title.values])\n",
    "\n",
    "\n",
    "#Compute token frequencies\n",
    "for s in all_texts:\n",
    "    if type(s) is not str:\n",
    "        continue\n",
    "    s = s.lower()\n",
    "    tokens = tokenizer.tokenize(s)\n",
    "    for token in tokens:\n",
    "        token_counts[token] +=1"
   ]
  },
  {
   "cell_type": "code",
   "execution_count": 18,
   "metadata": {
    "scrolled": true
   },
   "outputs": [
    {
     "name": "stdout",
     "output_type": "stream",
     "text": [
      "532457\n"
     ]
    }
   ],
   "source": [
    "print(len(list(token_counts.keys())))"
   ]
  },
  {
   "cell_type": "markdown",
   "metadata": {},
   "source": [
    "### Remove rare tokens\n",
    "\n",
    "We are unlikely to make use of words that are only seen a few times throughout the corpora.\n",
    "\n",
    "Again, if you want to beat Kaggle competition metrics, consider doing something better."
   ]
  },
  {
   "cell_type": "code",
   "execution_count": 19,
   "metadata": {},
   "outputs": [
    {
     "data": {
      "image/png": "[encoded data removed]",
      "text/plain": [
       "<matplotlib.figure.Figure at 0x7fe072484320>"
      ]
     },
     "metadata": {},
     "output_type": "display_data"
    }
   ],
   "source": [
    "#Word frequency distribution, just for kicks\n",
    "_ = plt.hist(list(token_counts.values()),range=[0,50],bins=50)"
   ]
  },
  {
   "cell_type": "code",
   "execution_count": 20,
   "metadata": {},
   "outputs": [
    {
     "name": "stdout",
     "output_type": "stream",
     "text": [
      "85415\n"
     ]
    }
   ],
   "source": [
    "#Select only the tokens that had at least 10 occurences in the corpora.\n",
    "#Use token_counts.\n",
    "\n",
    "min_count = 10\n",
    "# tokens = <tokens from token_counts keys that had at least min_count occurences throughout the dataset>\n",
    "tokens = [token for token in token_counts.keys() if token_counts[token] > min_count]\n",
    "print(len(tokens))"
   ]
  },
  {
   "cell_type": "code",
   "execution_count": 21,
   "metadata": {
    "collapsed": true
   },
   "outputs": [],
   "source": [
    "token_to_id = {t: i+1 for i,t in enumerate(tokens)}\n",
    "null_token = \"NULL\"\n",
    "token_to_id[null_token] = 0"
   ]
  },
  {
   "cell_type": "code",
   "execution_count": 22,
   "metadata": {},
   "outputs": [
    {
     "name": "stdout",
     "output_type": "stream",
     "text": [
      "# Tokens: 85416\n"
     ]
    }
   ],
   "source": [
    "print(\"# Tokens:\",len(token_to_id))\n",
    "if len(token_to_id) < 30000:\n",
    "    print(\"Alarm! It seems like there are too few tokens. Make sure you updated NLTK and applied correct thresholds -- unless you now what you're doing, ofc\")\n",
    "if len(token_to_id) > 1000000:\n",
    "    print(\"Alarm! Too many tokens. You might have messed up when pruning rare ones -- unless you know what you're doin' ofc\")"
   ]
  },
  {
   "cell_type": "markdown",
   "metadata": {},
   "source": [
    "### Replace words with IDs\n",
    "\n",
    "Set a maximum length for titles and descriptions.\n",
    "\n",
    "* If string is longer that that limit - crop it, if less - pad with zeros.\n",
    "* Thus we obtain a matrix of size [n_samples]x[max_length]\n",
    "* Element at i,j - is an identifier of word j within sample i"
   ]
  },
  {
   "cell_type": "code",
   "execution_count": 23,
   "metadata": {
    "collapsed": true
   },
   "outputs": [],
   "source": [
    "def vectorize(strings, token_to_id, max_len=150):\n",
    "    token_matrix = []\n",
    "    for s in strings:\n",
    "        if type(s) is not str:\n",
    "            token_matrix.append([0]*max_len)\n",
    "            continue\n",
    "        # For Python 2.x\n",
    "        # s = s.decode('utf8').lower()\n",
    "        s = s.lower()\n",
    "        tokens = tokenizer.tokenize(s)\n",
    "        token_ids = list(map(lambda token: token_to_id.get(token,0), tokens))[:max_len]\n",
    "        token_ids += [0]*(max_len - len(token_ids))\n",
    "        token_matrix.append(token_ids)\n",
    "\n",
    "    return np.array(token_matrix)"
   ]
  },
  {
   "cell_type": "code",
   "execution_count": 24,
   "metadata": {
    "collapsed": true
   },
   "outputs": [],
   "source": [
    "desc_tokens = vectorize(df.description.values,token_to_id,max_len = 150)\n",
    "title_tokens = vectorize(df.title.values,token_to_id,max_len = 15)"
   ]
  },
  {
   "cell_type": "markdown",
   "metadata": {},
   "source": [
    "### Data format examples"
   ]
  },
  {
   "cell_type": "code",
   "execution_count": 25,
   "metadata": {},
   "outputs": [
    {
     "name": "stdout",
     "output_type": "stream",
     "text": [
      "Размер матрицы: (546240, 15)\n",
      "Mazda 6, 2008 -> [4050   49 2439    0    0    0    0    0    0    0] ...\n",
      "Логан стартер -> [7924 2383    0    0    0    0    0    0    0    0] ...\n",
      "Volkswagen Passat, 2007 -> [3305 4759   69    0    0    0    0    0    0    0] ...\n",
      "Crescent 550 wa -> [    0  6165 47728     0     0     0     0     0     0     0] ...\n",
      "Audi Allroad, 2007 -> [  65 4555   69    0    0    0    0    0    0    0] ...\n",
      "Honda Accord, 2008 -> [3815 3982 2439    0    0    0    0    0    0    0] ...\n",
      "Главный тормозной цилиндр на деу матиз -> [5895 1945 2670   26 6600 3431    0    0    0    0] ...\n",
      "Зимние шины всборе с дисками -> [2695 1153 3283   76 1568    0    0    0    0    0] ...\n",
      "Renault Sandero, 2010 -> [4732 2601 3550    0    0    0    0    0    0    0] ...\n",
      "Volkswagen Polo, 2010 -> [3305 4190 3550    0    0    0    0    0    0    0] ...\n"
     ]
    }
   ],
   "source": [
    "print(\"Размер матрицы:\",title_tokens.shape)\n",
    "for title, tokens in zip(df.title.values[:10],title_tokens[:10]):\n",
    "    print(title,'->', tokens[:10],'...')"
   ]
  },
  {
   "cell_type": "markdown",
   "metadata": {},
   "source": [
    "#### As you can see, our preprocessing is somewhat crude. Let us see if that is enough for our network "
   ]
  },
  {
   "cell_type": "markdown",
   "metadata": {},
   "source": [
    "\n",
    "## Non-sequences\n",
    "\n",
    "Some data features are not text samples. E.g. price, # urls, category, etc\n",
    "They require a separate preprocessing.\n"
   ]
  },
  {
   "cell_type": "code",
   "execution_count": 26,
   "metadata": {
    "collapsed": true
   },
   "outputs": [],
   "source": [
    "#All numeric features\n",
    "df_numerical_features = df[[\"phones_cnt\",\"emails_cnt\",\"urls_cnt\",\"price\"]]"
   ]
  },
  {
   "cell_type": "code",
   "execution_count": 27,
   "metadata": {
    "collapsed": true
   },
   "outputs": [],
   "source": [
    "#One-hot-encoded category and subcategory\n",
    "\n",
    "from sklearn.feature_extraction import DictVectorizer\n",
    "\n",
    "categories = []\n",
    "data_cat_subcat = df[[\"category\",\"subcategory\"]].values\n",
    "\n",
    "# categories = [A list of dictionaries {\"category\":category_name, \"subcategory\":subcategory_name} for each data sample]\n",
    "categories = [{\"category\":cat_name, \"subcategory\":subcat_name} for cat_name, subcat_name in data_cat_subcat]\n",
    "\n",
    "vectorizer = DictVectorizer(sparse=False)\n",
    "cat_one_hot = vectorizer.fit_transform(categories)\n",
    "cat_one_hot = pd.DataFrame(cat_one_hot,columns=vectorizer.feature_names_)"
   ]
  },
  {
   "cell_type": "code",
   "execution_count": 28,
   "metadata": {
    "collapsed": true
   },
   "outputs": [],
   "source": [
    "df_non_text = pd.merge(\n",
    "    df_numerical_features,cat_one_hot,on = np.arange(len(cat_one_hot))\n",
    ")\n",
    "del df_non_text[\"key_0\"]"
   ]
  },
  {
   "cell_type": "markdown",
   "metadata": {},
   "source": [
    "## Split data into training and test"
   ]
  },
  {
   "cell_type": "code",
   "execution_count": 29,
   "metadata": {
    "collapsed": true
   },
   "outputs": [],
   "source": [
    "#Target variable - whether or not sample contains prohibited material\n",
    "target = df.is_blocked.values.astype('int32')\n",
    "#Preprocessed titles\n",
    "title_tokens = title_tokens.astype('int32')\n",
    "#Preprocessed tokens\n",
    "desc_tokens = desc_tokens.astype('int32')\n",
    "\n",
    "#Non-sequences\n",
    "df_non_text = df_non_text.astype('float32')"
   ]
  },
  {
   "cell_type": "code",
   "execution_count": 25,
   "metadata": {},
   "outputs": [
    {
     "name": "stdout",
     "output_type": "stream",
     "text": [
      "Test for same sort result passed.\n",
      "Test set contains items with item_ids strictly above that of training set.\n",
      "TRAIN: 137780 135425\n",
      "TEST: 137216 135989\n"
     ]
    }
   ],
   "source": [
    "#Split into training and test set.\n",
    "\n",
    "\n",
    "#Difficulty selector:\n",
    "#Easy: split randomly\n",
    "'''\n",
    "from sklearn.model_selection import train_test_split\n",
    "title_tr,title_ts,desc_tr,desc_ts,nontext_tr,nontext_ts,target_tr,target_ts = train_test_split(title_tokens,\n",
    "                                                                                               desc_tokens,\n",
    "                                                                                               df_non_text,\n",
    "                                                                                               target)\n",
    "'''\n",
    "#Medium: select test set items that have item_ids strictly above that of training set\n",
    "middle = len(target) // 2\n",
    "sitemids, stitle_tokens, sdesc_tokens, starget = (list(t) for t in zip(*sorted(zip(list(df.itemid.values), list(title_tokens),\n",
    "                                                                          list(desc_tokens), list(target)), \n",
    "                                                                        key=lambda x: x[0])))\n",
    "df_non_text['itemid'] = df.itemid\n",
    "df_nt = df_non_text.sort_values(by='itemid', kind='quicksort')\n",
    "\n",
    "assert sum(df_nt.itemid.values == sitemids) == len(df_nt)\n",
    "print(\"Test for same sort result passed.\")\n",
    "\n",
    "itemid_tr, itemid_ts = sitemids[:middle], sitemids[middle:]\n",
    "title_tr,title_ts = stitle_tokens[:middle], stitle_tokens[middle:]\n",
    "desc_tr,desc_ts = sdesc_tokens[:middle], sdesc_tokens[middle:]\n",
    "nontext_tr,nontext_ts = df_nt.iloc[:middle], df_nt.iloc[middle:], \n",
    "target_tr,target_ts = starget[:middle], starget[middle:]\n",
    "\n",
    "assert max( itemid_tr) < min(itemid_ts)\n",
    "print('Test set contains items with item_ids strictly above that of training set.')\n",
    "\n",
    "# Checking if such simple split provides us with class-balanced train and test sets\n",
    "print(\"TRAIN:\", sum(target_tr), middle-sum(target_tr))\n",
    "print(\"TEST:\", sum(target_ts), middle-sum(target_ts))     \n",
    "\n",
    "data_tuple = (title_tr,title_ts,desc_tr,desc_ts,nontext_tr,nontext_ts,target_tr,target_ts)\n",
    "#Hard: do whatever you want, but score yourself using kaggle private leaderboard\n",
    "\n",
    "# title_tr,title_ts,desc_tr,desc_ts,nontext_tr,nontext_ts,target_tr,target_ts = <define_these_variables>"
   ]
  },
  {
   "cell_type": "markdown",
   "metadata": {},
   "source": [
    "### Save preprocessed data [optional]\n",
    "\n",
    "* The next tab can be used to stash all the essential data matrices and get rid of the rest of the data.\n",
    "    * Highly recommended if you have less than 1.5GB RAM left\n",
    "    * To do that, you need to first run it with save_prepared_data=True, then restart the notebook and only run this tab with read_prepared_data=True.\n",
    "\n"
   ]
  },
  {
   "cell_type": "code",
   "execution_count": 30,
   "metadata": {},
   "outputs": [
    {
     "name": "stdout",
     "output_type": "stream",
     "text": [
      "Reading saved data...\n",
      "done\n"
     ]
    }
   ],
   "source": [
    "save_prepared_data = False #save\n",
    "read_prepared_data = True #load\n",
    "\n",
    "#but not both at once\n",
    "assert not (save_prepared_data and read_prepared_data)\n",
    "\n",
    "if save_prepared_data:\n",
    "    print(\"Saving preprocessed data (may take up to 3 minutes)\")\n",
    "\n",
    "    import pickle\n",
    "    with open(\"preprocessed_data.pcl\",'wb') as fout:\n",
    "        pickle.dump(data_tuple,fout)\n",
    "    with open(\"token_to_id.pcl\",'wb') as fout:\n",
    "        pickle.dump(token_to_id,fout)\n",
    "\n",
    "    print(\"dobe\")\n",
    "    \n",
    "elif read_prepared_data:\n",
    "    print(\"Reading saved data...\")\n",
    "    \n",
    "    import pickle\n",
    "    \n",
    "    with open(\"preprocessed_data.pcl\",'rb') as fin:\n",
    "        data_tuple = pickle.load(fin)\n",
    "    title_tr,title_ts,desc_tr,desc_ts,nontext_tr,nontext_ts,target_tr,target_ts = data_tuple\n",
    "    with open(\"token_to_id.pcl\",'rb') as fin:\n",
    "        token_to_id = pickle.load(fin)\n",
    "        \n",
    "    #Re-importing libraries to allow staring noteboook from here\n",
    "    import pandas as pd\n",
    "    import numpy as np\n",
    "    import matplotlib.pyplot as plt\n",
    "    %matplotlib inline\n",
    "   \n",
    "    print(\"done\")"
   ]
  },
  {
   "cell_type": "code",
   "execution_count": 38,
   "metadata": {},
   "outputs": [],
   "source": [
    "# post-processing\n",
    "title_tr = np.asarray(title_tr,dtype='int32')\n",
    "title_ts = np.asarray(title_ts,dtype='int32')\n",
    "desc_tr = np.asarray(desc_tr,dtype='int32')\n",
    "desc_ts = np.asarray(desc_ts,dtype='int32')"
   ]
  },
  {
   "cell_type": "markdown",
   "metadata": {},
   "source": [
    "\n",
    "## Train the monster\n",
    "\n",
    "Since we have several data sources, our neural network may differ from what you used to work with.\n",
    "\n",
    "* Separate input for titles: RNN\n",
    "* Separate input for description: RNN\n",
    "* Separate input for categorical features: обычные полносвязные слои или какие-нибудь трюки\n",
    "\n",
    "These three inputs must be blended somehow - concatenated or added.\n",
    "\n",
    "* Output: a simple binary classification\n",
    "    * 1 sigmoidal with binary_crossentropy\n",
    "    * 2 softmax with categorical_crossentropy - essentially the same as previous one\n",
    "    * 1 neuron without nonlinearity (lambda x: x) + hinge loss"
   ]
  },
  {
   "cell_type": "code",
   "execution_count": 31,
   "metadata": {
    "collapsed": true
   },
   "outputs": [],
   "source": [
    "#libraries\n",
    "import lasagne\n",
    "from theano import tensor as T\n",
    "import theano"
   ]
  },
  {
   "cell_type": "code",
   "execution_count": 86,
   "metadata": {
    "collapsed": true
   },
   "outputs": [],
   "source": [
    "#3 inputs and a refere output\n",
    "title_token_ids = T.matrix(\"title_token_ids\",dtype='int32')\n",
    "desc_token_ids = T.matrix(\"desc_token_ids\",dtype='int32')\n",
    "categories = T.matrix(\"categories\",dtype='float32')\n",
    "target_y = T.ivector(\"is_blocked\")"
   ]
  },
  {
   "cell_type": "markdown",
   "metadata": {},
   "source": [
    "## NN architecture"
   ]
  },
  {
   "cell_type": "code",
   "execution_count": 92,
   "metadata": {},
   "outputs": [],
   "source": [
    "title_inp = lasagne.layers.InputLayer((None,title_tr.shape[1]),input_var=title_token_ids)\n",
    "descr_inp = lasagne.layers.InputLayer((None,desc_tr.shape[1]),input_var=desc_token_ids)\n",
    "cat_inp = lasagne.layers.InputLayer((None,nontext_tr.shape[1]), input_var=categories)"
   ]
  },
  {
   "cell_type": "code",
   "execution_count": 90,
   "metadata": {},
   "outputs": [
    {
     "name": "stdout",
     "output_type": "stream",
     "text": [
      "Subtensor{int64}.0 Subtensor{int64}.0\n"
     ]
    }
   ],
   "source": [
    "batchsize, seqlen = descr_inp.input_var.shape\n",
    "print(batchsize,seqlen)"
   ]
  },
  {
   "cell_type": "code",
   "execution_count": 141,
   "metadata": {},
   "outputs": [
    {
     "name": "stdout",
     "output_type": "stream",
     "text": [
      "(273205, 150)\n",
      "85429\n"
     ]
    }
   ],
   "source": [
    "print(desc_tr.shape)\n",
    "print(len(token_to_id))"
   ]
  },
  {
   "cell_type": "code",
   "execution_count": 149,
   "metadata": {},
   "outputs": [],
   "source": [
    "# Descriptions\n",
    "\n",
    "# word-wise embedding. We recommend to start from some 64 and improving after you are certain it works.\n",
    "# -> output_size=64\n",
    "num_units = 20\n",
    "out_size = 64\n",
    "descr_nn = lasagne.layers.EmbeddingLayer(descr_inp, input_size=len(token_to_id)+1, output_size = out_size)\n",
    "# descr_nn = RNN or LSTM over embedding, maybe several ones in a stack\n",
    "descr_nn = lasagne.layers.ReshapeLayer(descr_nn, (-1,1,out_size*desc_tr.shape[1]))\n",
    "descr_nn = lasagne.layers.LSTMLayer(descr_nn, num_units)\n",
    "\n",
    "# Titles\n",
    "# title_nn = <Process titles somehow (title_inp)>\n",
    "title_nn = lasagne.layers.ReshapeLayer(title_inp, (-1,1,title_tr.shape[1]))\n",
    "title_nn = lasagne.layers.RecurrentLayer(title_nn, num_units=num_units)\n",
    "# title_nn = lasagne.layers.RecurrentLayer(title_nn, num_units)\n",
    "\n",
    "# Non-sequences\n",
    "# cat_nn = <Process non-sequences(cat_inp)>\n",
    "cat_nn = lasagne.layers.DenseLayer(cat_inp, num_units=num_units, nonlinearity=lasagne.nonlinearities.rectify)\n",
    "cat_nn = lasagne.layers.ReshapeLayer(cat_nn, (-1,1,num_units))\n",
    "# cat_nn = lasagne.layers.DenseLayer(cat_inp, num_units=num_units, nonlinearity=lasagne.nonlinearities.rectify)"
   ]
  },
  {
   "cell_type": "code",
   "execution_count": 151,
   "metadata": {},
   "outputs": [
    {
     "name": "stdout",
     "output_type": "stream",
     "text": [
      "[(None, 1, 20), (None, 1, 20), (None, 1, 20)]\n"
     ]
    }
   ],
   "source": [
    "# nn = <merge three layers into one (e.g. lasagne.layers.concat) >\n",
    "nn = lasagne.layers.concat([descr_nn, title_nn, cat_nn])\n",
    "print(nn.input_shapes)\n",
    "\n",
    "# nn = lasagne.layers.DenseLayer(nn,your_lucky_number)\n",
    "# nn = lasagne.layers.DropoutLayer(nn,p=maybe_use_me)\n",
    "# nn = lasagne.layers.DenseLayer(nn,1,nonlinearity=lasagne.nonlinearities.linear)\n",
    "\n",
    "nn = lasagne.layers.DenseLayer(nn, num_units)\n",
    "nn = lasagne.layers.DropoutLayer(nn, p=0.2)\n",
    "nn = lasagne.layers.DenseLayer(nn,1,nonlinearity=lasagne.nonlinearities.linear)"
   ]
  },
  {
   "cell_type": "code",
   "execution_count": 152,
   "metadata": {},
   "outputs": [
    {
     "name": "stdout",
     "output_type": "stream",
     "text": [
      "85429\n"
     ]
    }
   ],
   "source": [
    "print(len(token_to_id))"
   ]
  },
  {
   "cell_type": "markdown",
   "metadata": {},
   "source": [
    "## Loss function\n",
    "* The standard way:\n",
    "    * prediction\n",
    "    * loss\n",
    "    * updates\n",
    "    * training and evaluation functions\n",
    "\n",
    "* Hinge loss\n",
    "    * $ L_i = \\max(0, \\delta - t_i p_i) $\n",
    "    * delta is a tunable parameter: how far should a neuron be in the positive margin area for us to stop bothering about it\n",
    "    * Function description may mention some +-1 limitations - this is not neccessary, at least as long as hinge loss has a default flag binary = True"
   ]
  },
  {
   "cell_type": "code",
   "execution_count": 153,
   "metadata": {
    "collapsed": true
   },
   "outputs": [],
   "source": [
    "#All trainable params\n",
    "weights = lasagne.layers.get_all_params(nn,trainable=True)"
   ]
  },
  {
   "cell_type": "code",
   "execution_count": 156,
   "metadata": {},
   "outputs": [],
   "source": [
    "#Simple NN prediction\n",
    "prediction = lasagne.layers.get_output(nn)[:,0]\n",
    "\n",
    "#Hinge loss\n",
    "# loss = lasagne.objectives.binary_hinge_loss(prediction,target_y,delta = what_do_you_think).mean()\n",
    "loss = lasagne.objectives.binary_hinge_loss(prediction,target_y,delta = 0.9, log_odds=True).mean()"
   ]
  },
  {
   "cell_type": "code",
   "execution_count": 159,
   "metadata": {},
   "outputs": [],
   "source": [
    "#Weight optimization step\n",
    "# updates = <your favorite optimizer>\n",
    "params = lasagne.layers.get_all_params(nn)\n",
    "updates = lasagne.updates.adagrad(loss, params)\n"
   ]
  },
  {
   "cell_type": "markdown",
   "metadata": {},
   "source": [
    "### Determinitic prediction\n",
    "\n",
    "* In case we use stochastic elements, e.g. dropout or noize\n",
    "* Compile a separate set of functions with deterministic prediction (deterministic = True)\n",
    "* Unless you think there's no neet for dropout there ofc. Btw is there?"
   ]
  },
  {
   "cell_type": "code",
   "execution_count": null,
   "metadata": {
    "collapsed": true
   },
   "outputs": [],
   "source": [
    "#deterministic version\n",
    "det_prediction = lasagne.layers.get_output(nn,deterministic=True)[:,0]\n",
    "\n",
    "#equivalent loss function\n",
    "det_loss = <an excercise in copy-pasting and editing>"
   ]
  },
  {
   "cell_type": "markdown",
   "metadata": {},
   "source": [
    "### Coffee-lation"
   ]
  },
  {
   "cell_type": "code",
   "execution_count": null,
   "metadata": {
    "collapsed": true
   },
   "outputs": [],
   "source": [
    "train_fun = theano.function([desc_token_ids,title_token_ids,categories,target_y],[loss,prediction],updates = updates)\n",
    "eval_fun = theano.function([desc_token_ids,title_token_ids,categories,target_y],[det_loss,det_prediction])"
   ]
  },
  {
   "cell_type": "markdown",
   "metadata": {},
   "source": [
    "## Training loop\n",
    "\n",
    "* The regular way with loops over minibatches\n",
    "* Since the dataset is huge, we define epoch as some fixed amount of samples isntead of all dataset"
   ]
  },
  {
   "cell_type": "code",
   "execution_count": null,
   "metadata": {
    "collapsed": true
   },
   "outputs": [],
   "source": [
    "#average precision at K\n",
    "\n",
    "from oracle import APatK, score"
   ]
  },
  {
   "cell_type": "code",
   "execution_count": null,
   "metadata": {
    "collapsed": true
   },
   "outputs": [],
   "source": [
    "# Out good old minibatch iterator now supports arbitrary amount of arrays (X,y,z)\n",
    "\n",
    "def iterate_minibatches(*arrays,**kwargs):\n",
    "    batchsize=kwargs.get(\"batchsize\",100)\n",
    "    shuffle = kwargs.get(\"shuffle\",True)\n",
    "    \n",
    "    if shuffle:\n",
    "        indices = np.arange(len(arrays[0]))\n",
    "        np.random.shuffle(indices)\n",
    "    for start_idx in range(0, len(arrays[0]) - batchsize + 1, batchsize):\n",
    "        if shuffle:\n",
    "            excerpt = indices[start_idx:start_idx + batchsize]\n",
    "        else:\n",
    "            excerpt = slice(start_idx, start_idx + batchsize)\n",
    "        yield [arr[excerpt] for arr in arrays]"
   ]
  },
  {
   "cell_type": "markdown",
   "metadata": {},
   "source": [
    "### Tweaking guide\n",
    "\n",
    "* batch_size - how many samples are processed per function call\n",
    "    * optimization gets slower, but more stable, as you increase it.\n",
    "    * May consider increasing it halfway through training\n",
    "* minibatches_per_epoch - max amount of minibatches per epoch\n",
    "    * Does not affect training. Lesser value means more frequent and less stable printing\n",
    "    * Setting it to less than 10 is only meaningfull if you want to make sure your NN does not break down after one epoch\n",
    "* n_epochs - total amount of epochs to train for\n",
    "    * n_epochs = 10**10 and manual interrupting is still an option\n",
    "\n",
    "Tips:\n",
    "\n",
    "* With small minibatches_per_epoch, network quality may jump around 0.5 for several epochs\n",
    "* AUC is the most stable of all three metrics\n",
    "* Average Precision at top 2.5% (APatK) - is the least stable. If batch_size*minibatches_per_epoch < 10k, it behaves as a uniform random variable.\n",
    "* Plotting metrics over training time may be a good way to analyze which architectures work better.\n",
    "* Once you are sure your network aint gonna crash, it's worth letting it train for a few hours of an average laptop's time to see it's true potential"
   ]
  },
  {
   "cell_type": "code",
   "execution_count": null,
   "metadata": {
    "collapsed": true
   },
   "outputs": [],
   "source": [
    "from sklearn.metrics import roc_auc_score, accuracy_score\n",
    "\n",
    "n_epochs = 100\n",
    "batch_size = 100\n",
    "minibatches_per_epoch = 100\n",
    "\n",
    "for i in range(n_epochs):\n",
    "    #training\n",
    "    epoch_y_true = []\n",
    "    epoch_y_pred = []\n",
    "    \n",
    "    b_c = b_loss = 0\n",
    "    for j, (b_desc,b_title,b_cat, b_y) in enumerate(\n",
    "        iterate_minibatches(desc_tr,title_tr,nontext_tr,target_tr,batchsize=batch_size,shuffle=True)):\n",
    "        if j > minibatches_per_epoch:break\n",
    "            \n",
    "        loss,pred_probas = train_fun(b_desc,b_title,b_cat,b_y)\n",
    "        \n",
    "        b_loss += loss\n",
    "        b_c +=1\n",
    "        \n",
    "        epoch_y_true.append(b_y)\n",
    "        epoch_y_pred.append(pred_probas)\n",
    "    \n",
    "    epoch_y_true = np.concatenate(epoch_y_true)\n",
    "    epoch_y_pred = np.concatenate(epoch_y_pred)\n",
    "    \n",
    "    print(\"Train:\")\n",
    "    print('\\tloss:',b_loss/b_c)\n",
    "    print('\\tacc:',accuracy_score(epoch_y_true,epoch_y_pred>0.))\n",
    "    print('\\tauc:',roc_auc_score(epoch_y_true,epoch_y_pred))\n",
    "    print('\\tap@k:',APatK(epoch_y_true,epoch_y_pred,K = int(len(epoch_y_pred)*0.025)+1))\n",
    "    \n",
    "    #evaluation\n",
    "    epoch_y_true = []\n",
    "    epoch_y_pred = []\n",
    "    b_c = b_loss = 0\n",
    "    for j, (b_desc,b_title,b_cat, b_y) in enumerate(\n",
    "        iterate_minibatches(desc_ts,title_ts,nontext_tr,target_ts,batchsize=batch_size,shuffle=True)):\n",
    "        if j > minibatches_per_epoch: break\n",
    "        loss,pred_probas = eval_fun(b_desc,b_title,b_cat,b_y)\n",
    "        \n",
    "        b_loss += loss\n",
    "        b_c +=1\n",
    "        \n",
    "        epoch_y_true.append(b_y)\n",
    "        epoch_y_pred.append(pred_probas)\n",
    "\n",
    "    epoch_y_true = np.concatenate(epoch_y_true)\n",
    "    epoch_y_pred = np.concatenate(epoch_y_pred)\n",
    "    \n",
    "    print(\"Val:\")\n",
    "    print('\\tloss:',b_loss/b_c)\n",
    "    print('\\tacc:',accuracy_score(epoch_y_true,epoch_y_pred>0.))\n",
    "    print('\\tauc:',roc_auc_score(epoch_y_true,epoch_y_pred))\n",
    "    print('\\tap@k:',APatK(epoch_y_true,epoch_y_pred,K = int(len(epoch_y_pred)*0.025)+1))"
   ]
  },
  {
   "cell_type": "code",
   "execution_count": null,
   "metadata": {
    "collapsed": true
   },
   "outputs": [],
   "source": [
    "print(\"If you are seeing this, it's time to backup your notebook. No, really, 'tis too easy to mess up everything without noticing. \")"
   ]
  },
  {
   "cell_type": "markdown",
   "metadata": {},
   "source": [
    "## Final evaluation\n",
    "\n",
    "Evaluate network over the entire test set\n"
   ]
  },
  {
   "cell_type": "code",
   "execution_count": null,
   "metadata": {
    "collapsed": true
   },
   "outputs": [],
   "source": [
    "#evaluation\n",
    "epoch_y_true = []\n",
    "epoch_y_pred = []\n",
    "\n",
    "b_c = b_loss = 0\n",
    "for j, (b_desc,b_title,b_cat, b_y) in enumerate(\n",
    "    iterate_minibatches(desc_ts,title_ts,nontext_tr,target_ts,batchsize=batch_size,shuffle=True)):\n",
    "    loss,pred_probas = eval_fun(b_desc,b_title,b_cat,b_y)\n",
    "\n",
    "    b_loss += loss\n",
    "    b_c +=1\n",
    "\n",
    "    epoch_y_true.append(b_y)\n",
    "    epoch_y_pred.append(pred_probas)\n",
    "\n",
    "\n",
    "epoch_y_true = np.concatenate(epoch_y_true)\n",
    "epoch_y_pred = np.concatenate(epoch_y_pred)\n",
    "\n",
    "final_accuracy = accuracy_score(epoch_y_true,epoch_y_pred>0)\n",
    "final_auc = roc_auc_score(epoch_y_true,epoch_y_pred)\n",
    "final_apatk = APatK(epoch_y_true,epoch_y_pred,K = int(len(epoch_y_pred)*0.025)+1)\n",
    "\n",
    "print \"Scores:\"\n",
    "print '\\tloss:',b_loss/b_c\n",
    "print '\\tacc:',final_accuracy\n",
    "print '\\tauc:',final_auc\n",
    "print '\\tap@k:',final_apatk\n",
    "score(final_accuracy,final_auc,final_apatk)"
   ]
  },
  {
   "cell_type": "markdown",
   "metadata": {},
   "source": [
    "\n",
    "## Main task\n",
    "* https://goo.gl/forms/eJwIeAbjxzVuo6vn1\n",
    "* Feel like Le'Cun:\n",
    "    * accuracy > 0.95\n",
    "    * AUC > 0.97\n",
    "    * Average Precision at (test sample size * 0.025) > 0.99\n",
    "    * And perhaps even farther\n",
    "* Casual mode\n",
    "    * accuracy > 0.90\n",
    "    * AUC > 0.95\n",
    "    * Average Precision at (test sample size * 0.025) > 0.92\n",
    "* Remember the training, Luke\n",
    "    * Dropout, regularization\n",
    "    * Mommentum, RMSprop, ada*\n",
    "    * etc etc etc\n",
    "    * If you have background in texts, there may be a way to improve tokenizer, add some lemmatization, etc etc.\n",
    "    * In case you know how not to shoot yourself in the foot with RNNs, they too may be of some use."
   ]
  },
  {
   "cell_type": "code",
   "execution_count": null,
   "metadata": {
    "collapsed": true
   },
   "outputs": [],
   "source": []
  }
 ],
 "metadata": {
  "anaconda-cloud": {},
  "kernelspec": {
   "display_name": "Python 3",
   "language": "python",
   "name": "python3"
  },
  "language_info": {
   "codemirror_mode": {
    "name": "ipython",
    "version": 3
   },
   "file_extension": ".py",
   "mimetype": "text/x-python",
   "name": "python",
   "nbconvert_exporter": "python",
   "pygments_lexer": "ipython3",
   "version": "3.6.1"
  }
 },
 "nbformat": 4,
 "nbformat_minor": 1
}
