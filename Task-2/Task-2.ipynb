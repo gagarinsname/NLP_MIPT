{
 "cells": [
  {
   "cell_type": "markdown",
   "metadata": {},
   "source": [
    "## Загрузка данных"
   ]
  },
  {
   "cell_type": "code",
   "execution_count": 1,
   "metadata": {
    "collapsed": true
   },
   "outputs": [],
   "source": [
    "import pandas as pd\n",
    "aliases = pd.read_csv('data/Aliases.csv')\n",
    "emailreceivers = pd.read_csv('data/EmailReceivers.csv')\n",
    "emails = pd.read_csv('data/Emails.csv')\n",
    "persons = pd.read_csv('data/Persons.csv')"
   ]
  },
  {
   "cell_type": "code",
   "execution_count": 2,
   "metadata": {
    "collapsed": false
   },
   "outputs": [
    {
     "data": {
      "text/plain": [
       "Index(['Id', 'DocNumber', 'MetadataSubject', 'MetadataTo', 'MetadataFrom',\n",
       "       'SenderPersonId', 'MetadataDateSent', 'MetadataDateReleased',\n",
       "       'MetadataPdfLink', 'MetadataCaseNumber', 'MetadataDocumentClass',\n",
       "       'ExtractedSubject', 'ExtractedTo', 'ExtractedFrom', 'ExtractedCc',\n",
       "       'ExtractedDateSent', 'ExtractedCaseNumber', 'ExtractedDocNumber',\n",
       "       'ExtractedDateReleased', 'ExtractedReleaseInPartOrFull',\n",
       "       'ExtractedBodyText', 'RawText'],\n",
       "      dtype='object')"
      ]
     },
     "execution_count": 2,
     "metadata": {},
     "output_type": "execute_result"
    }
   ],
   "source": [
    "emails.columns"
   ]
  },
  {
   "cell_type": "code",
   "execution_count": 3,
   "metadata": {
    "collapsed": true
   },
   "outputs": [],
   "source": [
    "data = pd.DataFrame(emails[['MetadataSubject', 'ExtractedBodyText']])\n",
    "data.columns = ['subject', 'body']\n",
    "data.fillna('', inplace=True)"
   ]
  },
  {
   "cell_type": "code",
   "execution_count": 4,
   "metadata": {
    "collapsed": true
   },
   "outputs": [],
   "source": [
    "# data.head(20)"
   ]
  },
  {
   "cell_type": "markdown",
   "metadata": {},
   "source": [
    "## Предобработка и анализ"
   ]
  },
  {
   "cell_type": "markdown",
   "metadata": {},
   "source": [
    "Предобработаем сперва темы писем. В них содержатся шумовые токены вроде \"FWD:\" или \"Re:\". Избавимся от них с помощью регулярных выражений.\n",
    "Затем предобработаем тексты писем, в которых также содержатся шумовые строки, начинающиеся с подстрок \"Re:\" или \"H:\". Стоит также удалить шумовые тэги, такие как \"From:\", штампы \"U.S. Department...\", отметки времени и/или даты. Также удалим строки с номерами документов вроде \"Case No\" и строки с числами."
   ]
  },
  {
   "cell_type": "code",
   "execution_count": 4,
   "metadata": {
    "collapsed": true
   },
   "outputs": [],
   "source": [
    "import re\n",
    "def is_date(string):\n",
    "    try:\n",
    "        parse(string)\n",
    "        return True\n",
    "    except:\n",
    "        return False\n",
    "    \n",
    "def has_numbers(string):\n",
    "    return bool(re.search(r'\\d', string))\n",
    "\n",
    "def process_body(elem):\n",
    "    lines = elem.splitlines()\n",
    "    trashpattern = re.compile(r\"^(Doc No\\\\..*|Case No\\\\.|H <.*@.*>|.*@.*|From .|To:.|For:.*|Subject:.|U.S. Department of State$)\")\n",
    "    datepattern = re.compile(r\"Date: \\d{2}/\\d{2}/\\d{4}\")\n",
    "    timepattern = re.compile(r\".*\\d{1,2}:(\\d{2}\\s(?:AM|PM))\")\n",
    "    keypattern = re.compile(r\"\\s*(Fwd|Fw|Fvv|FVV|FW|Re|re|RE|H):\\s*\")\n",
    "    numpattern = re.compile(r\".*(\\d*-\\d*|\\d+\\b).*\")\n",
    "    lines = list(filter(lambda line: not datepattern.match(line) and not trashpattern.match(line) and not keypattern.match(line)\n",
    "            and not timepattern.match(line) and not numpattern.match(line) and len(line) > 10,lines))\n",
    "    return '\\n'.join(lines)\n",
    "\n",
    "def process_subject(elem):\n",
    "    if elem == '':\n",
    "        return elem\n",
    "    keypattern = r's*(Fwd|Fw|Fvv|FVV|FW|Re|re|RE|H):\\s*'\n",
    "    subject = re.sub(keypattern, \"\", elem)\n",
    "    subject = re.sub(keypattern, \"\", elem)\n",
    "    return subject\n",
    "\n",
    "data['subjectProc'] = data.subject.apply(process_subject)\n",
    "data['bodyProc'] = data.body.apply(process_body)"
   ]
  },
  {
   "cell_type": "code",
   "execution_count": 5,
   "metadata": {
    "collapsed": false
   },
   "outputs": [
    {
     "name": "stdout",
     "output_type": "stream",
     "text": [
      "7945\n"
     ]
    }
   ],
   "source": [
    "print(len(data))"
   ]
  },
  {
   "cell_type": "markdown",
   "metadata": {},
   "source": [
    "### Биграммы из текста"
   ]
  },
  {
   "cell_type": "code",
   "execution_count": 6,
   "metadata": {
    "collapsed": true
   },
   "outputs": [],
   "source": [
    "import nltk\n",
    "from nltk import word_tokenize\n",
    "from nltk.util import ngrams\n",
    "from nltk.corpus import stopwords\n",
    "import string\n",
    "stopset = list(stopwords.words('english')) + [\"'s\"] + [\"n't\"] + ['']\n",
    "punctset = string.punctuation + '—' + '``' + \"'\" + \"•\""
   ]
  },
  {
   "cell_type": "code",
   "execution_count": 7,
   "metadata": {
    "collapsed": false
   },
   "outputs": [],
   "source": [
    "tokenset = list(list(filter(lambda token: token.lower() not in stopset and token not in punctset and len(token) > 3, word_tokenize(line)))\n",
    "              for index, text in data.bodyProc.iteritems() for line in text.splitlines())\n",
    "tokenset = list(list(\"\".join(l for l in list(filter(lambda c: c not in punctset, token))) for token in doc)\n",
    "               for doc in tokenset)\n",
    "bigrams = list(bg for elem in tokenset for bg in list(ngrams(elem,2)))"
   ]
  },
  {
   "cell_type": "code",
   "execution_count": 8,
   "metadata": {
    "collapsed": false
   },
   "outputs": [
    {
     "name": "stdout",
     "output_type": "stream",
     "text": [
      "31217\n",
      "['wait', 'exactly', 'investigation', 'finally', 'confirms', 'best', 'information']\n"
     ]
    }
   ],
   "source": [
    "print(len(tokenset))\n",
    "print(tokenset[516])"
   ]
  },
  {
   "cell_type": "markdown",
   "metadata": {},
   "source": [
    "Выведем 5 наиболее часто встречающихся биграмм"
   ]
  },
  {
   "cell_type": "code",
   "execution_count": 9,
   "metadata": {
    "collapsed": true
   },
   "outputs": [],
   "source": [
    "from collections import Counter\n",
    "frequencies = Counter(bigrams)"
   ]
  },
  {
   "cell_type": "code",
   "execution_count": 10,
   "metadata": {
    "collapsed": false
   },
   "outputs": [
    {
     "name": "stdout",
     "output_type": "stream",
     "text": [
      "[(('United', 'States'), 325), (('White', 'House'), 239), (('Secretary', 'State'), 147), (('State', 'Department'), 134), (('health', 'care'), 112)]\n"
     ]
    }
   ],
   "source": [
    "print(frequencies.most_common(5))"
   ]
  },
  {
   "cell_type": "markdown",
   "metadata": {},
   "source": [
    "### Биграммы с помощью NLTK по PMI"
   ]
  },
  {
   "cell_type": "code",
   "execution_count": 11,
   "metadata": {
    "collapsed": false
   },
   "outputs": [],
   "source": [
    "import nltk\n",
    "from nltk.collocations import *\n",
    "bigram_measures = nltk.collocations.BigramAssocMeasures()\n",
    "tokens = [token for tokens in tokenset for token in tokens]"
   ]
  },
  {
   "cell_type": "code",
   "execution_count": 12,
   "metadata": {
    "collapsed": false
   },
   "outputs": [
    {
     "data": {
      "text/plain": [
       "[('United', 'States'), ('White', 'House')]"
      ]
     },
     "execution_count": 12,
     "metadata": {},
     "output_type": "execute_result"
    }
   ],
   "source": [
    "word_fd = nltk.FreqDist(tokens)\n",
    "bigram_fd = nltk.FreqDist(nltk.bigrams(tokens))\n",
    "finder = BigramCollocationFinder(word_fd, bigram_fd)\n",
    "sorted(finder.nbest(bigram_measures.raw_freq, 2))"
   ]
  },
  {
   "cell_type": "code",
   "execution_count": 13,
   "metadata": {
    "collapsed": true
   },
   "outputs": [],
   "source": [
    "scored = finder.score_ngrams(bigram_measures.raw_freq)"
   ]
  },
  {
   "cell_type": "code",
   "execution_count": 14,
   "metadata": {
    "collapsed": false
   },
   "outputs": [
    {
     "data": {
      "text/plain": [
       "166368"
      ]
     },
     "execution_count": 14,
     "metadata": {},
     "output_type": "execute_result"
    }
   ],
   "source": [
    "len(finder.score_ngrams(bigram_measures.raw_freq))"
   ]
  },
  {
   "cell_type": "code",
   "execution_count": 15,
   "metadata": {
    "collapsed": true
   },
   "outputs": [],
   "source": [
    "finder.apply_word_filter(lambda w: w.lower() in stopset + [''])"
   ]
  },
  {
   "cell_type": "code",
   "execution_count": 16,
   "metadata": {
    "collapsed": false
   },
   "outputs": [
    {
     "data": {
      "text/plain": [
       "166201"
      ]
     },
     "execution_count": 16,
     "metadata": {},
     "output_type": "execute_result"
    }
   ],
   "source": [
    "len(finder.score_ngrams(bigram_measures.raw_freq))"
   ]
  },
  {
   "cell_type": "code",
   "execution_count": 17,
   "metadata": {
    "collapsed": false
   },
   "outputs": [
    {
     "data": {
      "text/plain": [
       "[('101st', 'Airborne'),\n",
       " ('10am', 'Call'),\n",
       " ('10th', 'Dodd'),\n",
       " ('11th', 'attacks'),\n",
       " ('11th', 'hour'),\n",
       " ('12th', 'asked'),\n",
       " ('14th', 'pass'),\n",
       " ('15minutes', 'conference'),\n",
       " ('1960s', 'accuse'),\n",
       " ('1990s', 'Republicans'),\n",
       " ('19th', 'Amendment'),\n",
       " ('19th', 'century'),\n",
       " ('20th', 'century'),\n",
       " ('21st', 'century'),\n",
       " ('35th', 'anniversary'),\n",
       " ('AGNA', 'leadership'),\n",
       " ('AGREEMENT', 'SENSITIVE'),\n",
       " ('AIPAC', 'Presidents'),\n",
       " ('ANCHORS', 'APPROACH'),\n",
       " ('APPROACH', 'FARM'),\n",
       " ('APPROACH', 'identified'),\n",
       " ('ARRIVE', 'Private'),\n",
       " ('ARTS', 'LIVING'),\n",
       " ('ASEAN', 'China'),\n",
       " ('ASEAN', 'plus'),\n",
       " ('AUCA', 'president'),\n",
       " ('Abbas', 'agree'),\n",
       " ('Abdul', 'Ghani'),\n",
       " ('Abdulfatah', 'Younis'),\n",
       " ('Abedin', 'Huma'),\n",
       " ('Abedin', 'Hume'),\n",
       " ('Abedin', 'Jake'),\n",
       " ('Abedin', 'Kennedy'),\n",
       " ('Abedin', 'Lona'),\n",
       " ('Abedin', 'Sent'),\n",
       " ('Abraham', 'Lincoln'),\n",
       " ('Absolute', 'Absolute'),\n",
       " ('Abyei', 'understand'),\n",
       " ('Academy', 'Sciences'),\n",
       " ('Accomplishments', 'Date'),\n",
       " ('According', 'Hudson'),\n",
       " ('According', 'Politico'),\n",
       " ('According', 'Skousen'),\n",
       " ('According', 'another'),\n",
       " ('According', 'news'),\n",
       " ('According', 'sources'),\n",
       " ('Achilles', 'heel'),\n",
       " ('Action', 'Network'),\n",
       " ('Adams', 'says'),\n",
       " ('Adding', 'credentials'),\n",
       " ('Additionally', 'remarks'),\n",
       " ('Addressing', 'hunger'),\n",
       " ('Adm', 'Mike'),\n",
       " ('Administration', 'agenda'),\n",
       " ('Administration', 'circle'),\n",
       " ('Administration', 'commitment'),\n",
       " ('Administration', 'committed'),\n",
       " ('Administration', 'officials'),\n",
       " ('Administration', 'policies'),\n",
       " ('Administration', 'recently'),\n",
       " ('Admiral', 'Mullen'),\n",
       " ('Adore', 'hurt'),\n",
       " ('Advertising', 'guide'),\n",
       " ('Adviser', 'Donilon'),\n",
       " ('Adviser', 'James'),\n",
       " ('Advisor', 'Director'),\n",
       " ('Advisor', 'Office'),\n",
       " ('Advisory', 'Board'),\n",
       " ('Affairs', 'Bureau'),\n",
       " ('Affairs', 'Department'),\n",
       " ('Affairs', 'Fellowship'),\n",
       " ('Affairs', 'said'),\n",
       " ('Affidavit', 'group'),\n",
       " ('Afghan', 'Army'),\n",
       " ('Afghan', 'National'),\n",
       " ('Afghan', 'President'),\n",
       " ('Afghan', 'Taliban'),\n",
       " ('Afghan', 'army'),\n",
       " ('Afghan', 'forces'),\n",
       " ('Afghan', 'government'),\n",
       " ('Afghan', 'leader'),\n",
       " ('Afghan', 'leaders'),\n",
       " ('Afghan', 'leadership'),\n",
       " ('Afghan', 'people'),\n",
       " ('Afghan', 'police'),\n",
       " ('Afghan', 'policy'),\n",
       " ('Afghan', 'population'),\n",
       " ('Afghan', 'security'),\n",
       " ('Afghan', 'society'),\n",
       " ('Afghan', 'women'),\n",
       " ('Afghanistan', 'Afghan'),\n",
       " ('Afghanistan', 'American'),\n",
       " ('Afghanistan', 'Americans'),\n",
       " ('Afghanistan', 'General'),\n",
       " ('Afghanistan', 'Holbrooke'),\n",
       " ('Afghanistan', 'Iraq'),\n",
       " ('Afghanistan', 'McChrystal'),\n",
       " ('Afghanistan', 'Pakistan'),\n",
       " ('Afghanistan', 'Washington'),\n",
       " ('Afghanistan', 'almost'),\n",
       " ('Afghanistan', 'change'),\n",
       " ('Afghanistan', 'difficult'),\n",
       " ('Afghanistan', 'going'),\n",
       " ('Afghanistan', 'last'),\n",
       " ('Afghanistan', 'military'),\n",
       " ('Afghanistan', 'must'),\n",
       " ('Afghanistan', 'said'),\n",
       " ('Afghanistan', 'spent'),\n",
       " ('Afghanistan', 'strategy'),\n",
       " ('Afghanistan', 'vital'),\n",
       " ('Afghanistan', 'wanted'),\n",
       " ('Afghanistan', 'women'),\n",
       " ('Afghanistan', 'would'),\n",
       " ('Africa', 'Agriculture'),\n",
       " ('Africa', 'Angola'),\n",
       " ('Africa', 'August'),\n",
       " ('Africa', 'Middle'),\n",
       " ('Africa', 'Outside'),\n",
       " ('Africa', 'began'),\n",
       " ('Africa', 'said'),\n",
       " ('Africa', 'sending'),\n",
       " ('African', 'American'),\n",
       " ('African', 'Union'),\n",
       " ('African', 'agricultural'),\n",
       " ('African', 'nations'),\n",
       " ('African', 'officers'),\n",
       " ('Agency', 'International'),\n",
       " ('Agreement', 'discussed'),\n",
       " ('Agriculture', 'Development'),\n",
       " ('Aides', 'US'),\n",
       " ('Airborne', 'Division'),\n",
       " ('Aires', 'Montevideo'),\n",
       " ('Airport', 'route'),\n",
       " ('Aish', 'Hatorah'),\n",
       " ('Alan', 'Bersin'),\n",
       " ('Alan', 'McFarland'),\n",
       " ('Alaskan', 'governor'),\n",
       " ('Albright', 'Stonebridge'),\n",
       " ('Alcy', 'Frelick'),\n",
       " ('Alec', 'Ross'),\n",
       " ('Alex', 'Larsen'),\n",
       " ('Alexander', 'Gregg'),\n",
       " ('Alexander', 'Zaitchik'),\n",
       " ('Alexander', 'office'),\n",
       " ('Alexander', 'said'),\n",
       " ('Alistair', 'Darling'),\n",
       " ('Allenby', 'Bridge'),\n",
       " ('Almost', 'half'),\n",
       " ('Along', 'parade'),\n",
       " ('Already', 'hero'),\n",
       " ('Already', 'working'),\n",
       " ('Also', 'coming'),\n",
       " ('Also', 'copy'),\n",
       " ('Also', 'could'),\n",
       " ('Also', 'faxing'),\n",
       " ('Also', 'give'),\n",
       " ('Also', 'graffiti'),\n",
       " ('Also', 'heard'),\n",
       " ('Also', 'know'),\n",
       " ('Also', 'like'),\n",
       " ('Also', 'memo'),\n",
       " ('Also', 'recommend'),\n",
       " ('Also', 'sent'),\n",
       " ('Also', 'statement'),\n",
       " ('Also', 'status'),\n",
       " ('Also', 'sure'),\n",
       " ('Also', 'think'),\n",
       " ('Also', 'told'),\n",
       " ('Also', 'want'),\n",
       " ('Although', 'email'),\n",
       " ('Amazon', 'Prime'),\n",
       " ('Ambassador', 'Chris'),\n",
       " ('Ambassador', 'Christopher'),\n",
       " ('Ambassador', 'Eikenberry'),\n",
       " ('Ambassador', 'Holbrooke'),\n",
       " ('Ambassador', 'Husain'),\n",
       " ('Ambassador', 'Karl'),\n",
       " ('Ambassador', 'Large'),\n",
       " ('Ambassador', 'Libya'),\n",
       " ('Ambassador', 'Mark'),\n",
       " ('Ambassador', 'Merten'),\n",
       " ('Ambassador', 'Pascual'),\n",
       " ('Ambassador', 'Rice'),\n",
       " ('Ambassador', 'Richard'),\n",
       " ('Ambassador', 'Stevens'),\n",
       " ('Ambassador', 'Susan'),\n",
       " ('Ambassador', 'maybe'),\n",
       " ('Ambiguity', 'created'),\n",
       " ('Amcits', 'questions'),\n",
       " ('America', 'American'),\n",
       " ('America', 'Apparently'),\n",
       " ('America', 'Foundation'),\n",
       " ('America', 'Government'),\n",
       " ('America', 'Israel'),\n",
       " ('America', 'Jewish'),\n",
       " ('America', 'Middle'),\n",
       " ('America', 'administration'),\n",
       " ('America', 'allies'),\n",
       " ('America', 'commitment'),\n",
       " ('America', 'could'),\n",
       " ('America', 'diplomats'),\n",
       " ('America', 'great'),\n",
       " ('America', 'greatest'),\n",
       " ('America', 'leader'),\n",
       " ('America', 'leaders'),\n",
       " ('America', 'long'),\n",
       " ('America', 'must'),\n",
       " ('America', 'optimism'),\n",
       " ('America', 'power'),\n",
       " ('America', 'relationship'),\n",
       " ('America', 'right'),\n",
       " ('America', 'understanding'),\n",
       " ('America', 'values'),\n",
       " ('America', 'world'),\n",
       " ('American', 'Bridge'),\n",
       " ('American', 'Caribbean'),\n",
       " ('American', 'Century'),\n",
       " ('American', 'Dream'),\n",
       " ('American', 'Enterprise'),\n",
       " ('American', 'Israeli'),\n",
       " ('American', 'Jewish'),\n",
       " ('American', 'Jewry'),\n",
       " ('American', 'Jews'),\n",
       " ('American', 'Party'),\n",
       " ('American', 'Personnel'),\n",
       " ('American', 'Progress'),\n",
       " ('American', 'Security'),\n",
       " ('American', 'States'),\n",
       " ('American', 'University'),\n",
       " ('American', 'Zionists'),\n",
       " ('American', 'ambassador'),\n",
       " ('American', 'citizen'),\n",
       " ('American', 'citizens'),\n",
       " ('American', 'civilian'),\n",
       " ('American', 'communities'),\n",
       " ('American', 'companies'),\n",
       " ('American', 'diplomacy'),\n",
       " ('American', 'diplomatic'),\n",
       " ('American', 'diplomats'),\n",
       " ('American', 'economic'),\n",
       " ('American', 'embassies'),\n",
       " ('American', 'foreign'),\n",
       " ('American', 'government'),\n",
       " ('American', 'hikers'),\n",
       " ('American', 'history'),\n",
       " ('American', 'ideas'),\n",
       " ('American', 'industries'),\n",
       " ('American', 'intelligence'),\n",
       " ('American', 'interest'),\n",
       " ('American', 'interests'),\n",
       " ('American', 'jobs'),\n",
       " ('American', 'journalist'),\n",
       " ('American', 'leaders'),\n",
       " ('American', 'leadership'),\n",
       " ('American', 'lives'),\n",
       " ('American', 'media'),\n",
       " ('American', 'might'),\n",
       " ('American', 'military'),\n",
       " ('American', 'officials'),\n",
       " ('American', 'people'),\n",
       " ('American', 'personnel'),\n",
       " ('American', 'policies'),\n",
       " ('American', 'policy'),\n",
       " ('American', 'political'),\n",
       " ('American', 'politics'),\n",
       " ('American', 'power'),\n",
       " ('American', 'president'),\n",
       " ('American', 'presidents'),\n",
       " ('American', 'press'),\n",
       " ('American', 'public'),\n",
       " ('American', 'relations'),\n",
       " ('American', 'security'),\n",
       " ('American', 'soldiers'),\n",
       " ('American', 'tradition'),\n",
       " ('American', 'troops'),\n",
       " ('American', 'universities'),\n",
       " ('American', 'values'),\n",
       " ('American', 'women'),\n",
       " ('American', 'yesteryear'),\n",
       " ('Americans', 'Israelis'),\n",
       " ('Americans', 'Prosperity'),\n",
       " ('Americans', 'across'),\n",
       " ('Americans', 'afford'),\n",
       " ('Americans', 'back'),\n",
       " ('Americans', 'even'),\n",
       " ('Americans', 'fear'),\n",
       " ('Americans', 'good'),\n",
       " ('Americans', 'ground'),\n",
       " ('Americans', 'killed'),\n",
       " ('Americans', 'leave'),\n",
       " ('Americans', 'likely'),\n",
       " ('Americans', 'lost'),\n",
       " ('Americans', 'need'),\n",
       " ('Americans', 'seem'),\n",
       " ('Americans', 'taking'),\n",
       " ('Americans', 'thought'),\n",
       " ('Americans', 'want'),\n",
       " ('Americans', 'working'),\n",
       " ('Americans', 'would'),\n",
       " ('Amerika', 'chosen'),\n",
       " ('Amnesty', 'International'),\n",
       " ('Among', 'United'),\n",
       " ('Among', 'White'),\n",
       " ('Among', 'things'),\n",
       " ('Amorim', 'said'),\n",
       " ('Andrea', 'Mitchell'),\n",
       " ('Andrew', 'Shapiro'),\n",
       " ('Andrew', 'Sullivan'),\n",
       " ('Andrews', 'Force'),\n",
       " ('Andrews', 'route'),\n",
       " ('Angela', 'Merkel'),\n",
       " ('Angeles', 'Times'),\n",
       " ('Anne', 'Marie'),\n",
       " ('Another', 'called'),\n",
       " ('Another', 'told'),\n",
       " ('Another', 'trend'),\n",
       " ('Anthony', 'Weiner'),\n",
       " ('Anwar', 'Sadat'),\n",
       " ('Anything', 'else'),\n",
       " ('Apologies', 'typos'),\n",
       " ('Apparently', 'thought'),\n",
       " ('Appointment', 'Affidavit'),\n",
       " ('Appropriations', 'Committee'),\n",
       " ('Approval', 'ratings'),\n",
       " ('April', 'Ryan'),\n",
       " ('Arab', 'League'),\n",
       " ('Arab', 'Muslim'),\n",
       " ('Arab', 'Negev'),\n",
       " ('Arab', 'Peace'),\n",
       " ('Arab', 'citizens'),\n",
       " ('Arab', 'civilians'),\n",
       " ('Arab', 'countries'),\n",
       " ('Arab', 'governments'),\n",
       " ('Arab', 'interests'),\n",
       " ('Arab', 'leaders'),\n",
       " ('Arab', 'states'),\n",
       " ('Arab', 'world'),\n",
       " ('Arabs', 'Israeli'),\n",
       " ('Arabs', 'Palestinians'),\n",
       " ('Arabs', 'begin'),\n",
       " ('Arabs', 'never'),\n",
       " ('Arctic', 'Council'),\n",
       " ('Areas', 'lacking'),\n",
       " ('Argentina', 'desk'),\n",
       " ('Argentina', 'order'),\n",
       " ('Argentina', 'personal'),\n",
       " ('Ariel', 'Sharon'),\n",
       " ('Aristide', 'Foundation'),\n",
       " ('Arizona', 'Pyszczynski'),\n",
       " ('Arizona', 'windows'),\n",
       " ('Arkin', 'Bahtiyar'),\n",
       " ('Arlen', 'Specter'),\n",
       " ('Arlington', 'Heights'),\n",
       " ('Armagh', 'village'),\n",
       " ('Armed', 'Forces'),\n",
       " ('Armed', 'Services'),\n",
       " ('Armey', 'Party'),\n",
       " ('Armey', 'collected'),\n",
       " ('Armey', 'libertarian'),\n",
       " ('Armey', 'real'),\n",
       " ('Arms', 'Reduction'),\n",
       " ('Army', 'SOUTHCOM'),\n",
       " ('Army', 'come'),\n",
       " ('Army', 'enlisted'),\n",
       " ('Army', 'leaving'),\n",
       " ('Army', 'police'),\n",
       " ('Army', 'saying'),\n",
       " ('Article', 'Conference'),\n",
       " ('Article', 'history'),\n",
       " ('Artists', 'Committee'),\n",
       " ('Arturo', 'Gonzalez'),\n",
       " ('Arturo', 'Valenzuela'),\n",
       " ('Ashfaq', 'Parvez'),\n",
       " ('Ashton', 'lifetime'),\n",
       " ('Ashton', 'particularly'),\n",
       " ('Asia', 'Pacific'),\n",
       " ('Asia', 'Regional'),\n",
       " ('Asia', 'expert'),\n",
       " ('Asia', 'hand'),\n",
       " ('Asia', 'journey'),\n",
       " ('Asia', 'summit'),\n",
       " ('Asia', 'trip'),\n",
       " ('Asian', 'Development'),\n",
       " ('Asian', 'nations'),\n",
       " ('Asif', 'Zardari'),\n",
       " ('Asked', 'call'),\n",
       " ('Asked', 'future'),\n",
       " ('Asking', 'talk'),\n",
       " ('Assange', 'clearly'),\n",
       " ('Assange', 'leak'),\n",
       " ('Assembly', 'member'),\n",
       " ('Assess', 'homes'),\n",
       " ('Assistant', 'Secretary'),\n",
       " ('Associate', 'Director'),\n",
       " ('Associate', 'Professor'),\n",
       " ('Associated', 'Press'),\n",
       " ('Association', 'Maquiladoras'),\n",
       " ('Atomic', 'Energy'),\n",
       " ('Attached', 'concept'),\n",
       " ('Attached', 'draft'),\n",
       " ('Attached', 'please'),\n",
       " ('Attorney', 'General'),\n",
       " ('Aubrey', 'Chernick'),\n",
       " ('Audacity', 'Hope'),\n",
       " ('August', 'thought'),\n",
       " ('Australia', 'Zealand'),\n",
       " ('Avigdor', 'Lieberman'),\n",
       " ('Avner', 'Cohen'),\n",
       " ('Avraham', 'Burg'),\n",
       " ('Award', 'retracted'),\n",
       " ('Axelrod', 'Axelrod'),\n",
       " ('Axelrod', 'senior'),\n",
       " ('Azadegan', 'oilfield'),\n",
       " ('BROWN', 'course'),\n",
       " ('BUSINESS', 'LOCAL'),\n",
       " ('Baby', 'killer'),\n",
       " ('Bader', 'another'),\n",
       " ('Bakhtiari', 'Baluchistan'),\n",
       " ('Balls', 'Gordon'),\n",
       " ('Band', 'Justin'),\n",
       " ('Banda', 'Civil'),\n",
       " ('Bank', 'Asian'),\n",
       " ('Bank', 'Gaza'),\n",
       " ('Bank', 'settlement'),\n",
       " ('Bank', 'settlements'),\n",
       " ('Banking', 'Committee'),\n",
       " ('Barack', 'Obama'),\n",
       " ('Barbara', 'Retzlaff'),\n",
       " ('Barbara', 'Walters'),\n",
       " ('Barbara', 'brother'),\n",
       " ('Bard', 'College'),\n",
       " ('Bardy', 'said'),\n",
       " ('Bargain', 'Bomb'),\n",
       " ('Barnard', 'College'),\n",
       " ('Barnett', 'Rubin'),\n",
       " ('Barney', 'Frank'),\n",
       " ('Bart', 'Stupak'),\n",
       " ('Bartholomew', 'Marshall'),\n",
       " ('Base', 'route'),\n",
       " ('Based', 'discussions'),\n",
       " ('Bass', 'John'),\n",
       " ('Bauer', 'Fattal'),\n",
       " ('Bauer', 'Josh'),\n",
       " ('Beast', 'Nation'),\n",
       " ('Beck', 'Party'),\n",
       " ('Beck', 'Skousen'),\n",
       " ('Beck', 'able'),\n",
       " ('Beck', 'conceded'),\n",
       " ('Beck', 'crusade'),\n",
       " ('Beck', 'devoted'),\n",
       " ('Beck', 'encouraged'),\n",
       " ('Beck', 'first'),\n",
       " ('Beck', 'opined'),\n",
       " ('Beck', 'opinions'),\n",
       " ('Beck', 'said'),\n",
       " ('Beck', 'something'),\n",
       " ('Beck', 'taught'),\n",
       " ('Beck', 'told'),\n",
       " ('Beck', 'transfixed'),\n",
       " ('Begin', 'forwarded'),\n",
       " ('Behind', 'Obama'),\n",
       " ('Belfast', 'dinner'),\n",
       " ('Belfast', 'next'),\n",
       " ('Belief', 'Blog'),\n",
       " ('Believer', 'Insofar'),\n",
       " ('Beltway', 'echo'),\n",
       " ('Beltway', 'higher'),\n",
       " ('Benazir', 'Bhutto'),\n",
       " ('Benghazi', 'Libya'),\n",
       " ('Benghazi', 'obviously'),\n",
       " ('Benghazi', 'privilege'),\n",
       " ('Benghazi', 'risked'),\n",
       " ('Benghazi', 'security'),\n",
       " ('Benito', 'Mussolini'),\n",
       " ('Benjamin', 'Franklin'),\n",
       " ('Benjamin', 'Netanyahu'),\n",
       " ('Benjamin', 'Sullivan'),\n",
       " ('Berger', 'Samuel'),\n",
       " ('Berlin', 'Wall'),\n",
       " ('Bermudez', 'tomorrow'),\n",
       " ('Bernard', 'Avishai'),\n",
       " ('Bernard', 'mother'),\n",
       " ('Besides', 'founding'),\n",
       " ('Besides', 'influencing'),\n",
       " ('Best', 'Arturo'),\n",
       " ('Best', 'Jacqueline'),\n",
       " ('Best', 'Kurt'),\n",
       " ('Best', 'Sandy'),\n",
       " ('Best', 'Todd'),\n",
       " ('Best', 'Tony'),\n",
       " ('Betsy', 'McCaughey'),\n",
       " ('Biblical', 'advocates'),\n",
       " ('Biden', 'McChrystal'),\n",
       " ('Biden', 'done'),\n",
       " ('Biden', 'known'),\n",
       " ('Biden', 'said'),\n",
       " ('Biden', 'suggests'),\n",
       " ('Biden', 'trip'),\n",
       " ('Bill', 'Burns'),\n",
       " ('Bill', 'Chelsea'),\n",
       " ('Bill', 'Clinton'),\n",
       " ('Bill', 'Melinda'),\n",
       " ('Bill', 'burns'),\n",
       " ('Bill', 'call'),\n",
       " ('Bill', 'coming'),\n",
       " ('Bill', 'wants'),\n",
       " ('Billy', 'Tauzin'),\n",
       " ('Binnendijk', 'Richard'),\n",
       " ('Binyamin', 'Netanyahu'),\n",
       " ('Birch', 'Society'),\n",
       " ('Bircher', 'right'),\n",
       " ('Birther', 'movement'),\n",
       " ('Births', 'Marriages'),\n",
       " ('Bishops', 'Stupak'),\n",
       " ('Bizarre', 'Cabal'),\n",
       " ('Black', 'Good'),\n",
       " ('Black', 'dudes'),\n",
       " ('BlackBerry', 'Sent'),\n",
       " ('BlackBerry', 'Wireless'),\n",
       " ('BlackBerry', 'route'),\n",
       " ('BlackBerry®', 'smartphone'),\n",
       " ('Blackberry', 'Brown'),\n",
       " ('Blair', 'House'),\n",
       " ('Blair', 'Quartet'),\n",
       " ('Blair', 'accepts'),\n",
       " ('Blair', 'become'),\n",
       " ('Blair', 'candidacy'),\n",
       " ('Blair', 'chances'),\n",
       " ('Blair', 'message'),\n",
       " ('Blair', 'president'),\n",
       " ('Blair', 'would'),\n",
       " ('Blog', 'faith'),\n",
       " ('Bloomberg', 'Belfast'),\n",
       " ('Bloomberg', 'LP'),\n",
       " ('Bloomberg', 'News'),\n",
       " ('Bloomberg', 'View'),\n",
       " ('Bloomberg', 'businesses'),\n",
       " ('Bloomberg', 'online'),\n",
       " ('Bloomberg', 'would'),\n",
       " ('Blue', 'Coats'),\n",
       " ('Blue', 'Nile'),\n",
       " ('Blumenthal', 'Great'),\n",
       " ('Blumenthal', 'author'),\n",
       " ('Blumenthal', 'become'),\n",
       " ('Blumenthal', 'cites'),\n",
       " ('Blumenthal', 'goes'),\n",
       " ('Blumenthal', 'looks'),\n",
       " ('Blumenthal', 'points'),\n",
       " ('Board', 'Directors'),\n",
       " ('Bobbitt', 'Smith'),\n",
       " ('Boehner', 'Paula'),\n",
       " ('Boehner', 'Republicans'),\n",
       " ('Boehner', 'Speaker'),\n",
       " ('Boehner', 'aide'),\n",
       " ('Boehner', 'heart'),\n",
       " ('Boehner', 'much'),\n",
       " ('Boehner', 'office'),\n",
       " ('Boehner', 'political'),\n",
       " ('Boehner', 'poster'),\n",
       " ('Boehner', 'said'),\n",
       " ('Boehner', 'voted'),\n",
       " ('Boehner', 'working'),\n",
       " ('Bolded', 'think'),\n",
       " ('Bookmarks', 'delicious'),\n",
       " ('Booth', 'information'),\n",
       " ('Born', 'Hoax'),\n",
       " ('Bosnia', 'Burma'),\n",
       " ('Boston', 'Globe'),\n",
       " ('Bottom', 'line'),\n",
       " ('Bound', 'Lobbyists'),\n",
       " ('Brady', 'Handgun'),\n",
       " ('Brainard', 'served'),\n",
       " ('Branch', 'book'),\n",
       " ('Branch', 'continues'),\n",
       " ('Branch', 'outlines'),\n",
       " ('Branch', 'recalls'),\n",
       " ('Branch', 'says'),\n",
       " ('Branch', 'writes'),\n",
       " ('Branding', 'Boehner'),\n",
       " ('Brazil', 'India'),\n",
       " ('Brazil', 'Mexico'),\n",
       " ('Brazilian', 'Ambassador'),\n",
       " ('Breaking', 'News'),\n",
       " ('Brent', 'Scowcroft'),\n",
       " ('Brian', 'Cowen'),\n",
       " ('Brian', 'Doherty'),\n",
       " ('Bristol', 'Myers'),\n",
       " ('Britain', 'budget'),\n",
       " ('British', 'Cross'),\n",
       " ('British', 'Polling'),\n",
       " ('British', 'Special'),\n",
       " ('British', 'government'),\n",
       " ('British', 'prime'),\n",
       " ('British', 'public'),\n",
       " ('British', 'territory'),\n",
       " ('British', 'troops'),\n",
       " ('Briton', 'reportedly'),\n",
       " ('BrnAgn', 'Degree'),\n",
       " ('Brock', 'said'),\n",
       " ('Brooke', 'Shearer'),\n",
       " ('Brookings', 'Institution'),\n",
       " ('Brotherhood', 'charge'),\n",
       " ('Brown', 'Collins'),\n",
       " ('Brown', 'Cowen'),\n",
       " ('Brown', 'None'),\n",
       " ('Brown', 'Obama'),\n",
       " ('Brown', 'Quinnipiac'),\n",
       " ('Brown', 'also'),\n",
       " ('Brown', 'assistant'),\n",
       " ('Brown', 'believes'),\n",
       " ('Brown', 'called'),\n",
       " ('Brown', 'course'),\n",
       " ('Brown', 'efforts'),\n",
       " ('Brown', 'government'),\n",
       " ('Brown', 'honeymoon'),\n",
       " ('Brown', 'moved'),\n",
       " ('Brown', 'praised'),\n",
       " ('Brown', 'said'),\n",
       " ('Brown', 'tantrums'),\n",
       " ('Brown', 'told'),\n",
       " ('Brown', 'would'),\n",
       " ('Bruce', 'Jones'),\n",
       " ('Bruni', 'reveals'),\n",
       " ('Brunner', 'Democrat'),\n",
       " ('Brunner', 'would'),\n",
       " ('Brussels', 'Britain'),\n",
       " ('Brussels', 'could'),\n",
       " ('Brussels', 'forum'),\n",
       " ('Bubba', 'Love'),\n",
       " ('Buckley', 'mainstream'),\n",
       " ('Buckley', 'wrote'),\n",
       " ('Budget', 'Office'),\n",
       " ('Buenos', 'Aires'),\n",
       " ('Buffalo', 'Bills'),\n",
       " ('Build', 'robust'),\n",
       " ('Building', 'route'),\n",
       " ('Building', 'salute'),\n",
       " ('Bureau', 'Legislative'),\n",
       " ('Bureau', 'Medicine'),\n",
       " ('Bureau', 'Near'),\n",
       " ('Bureaus', 'Offices'),\n",
       " ('Burma', 'Lanka'),\n",
       " ('Burma', 'leaders'),\n",
       " ('Burmese', 'women'),\n",
       " ('Burn', 'Quran'),\n",
       " ('Burns', 'William'),\n",
       " ('Burns', 'attend'),\n",
       " ('Burns', 'elements'),\n",
       " ('Bush', 'Administration'),\n",
       " ('Bush', 'School'),\n",
       " ('Bush', 'White'),\n",
       " ('Bush', 'administration'),\n",
       " ('Bush', 'cuts'),\n",
       " ('Bush', 'negotiated'),\n",
       " ('Bush', 'policies'),\n",
       " ('Bush', 'presidency'),\n",
       " ('Bush', 'revolution'),\n",
       " ('Bush', 'took'),\n",
       " ('Bush', 'years'),\n",
       " ('Business', 'Secretary'),\n",
       " ('Buttress', 'settlements'),\n",
       " ('Butts', 'Senior'),\n",
       " ('CAMERA', 'SPRAY'),\n",
       " ('CARE', 'speech'),\n",
       " ('CARS', 'REAL'),\n",
       " ('CEOs', 'whose'),\n",
       " ('CEREMONY', 'speech'),\n",
       " ('CLINTON', 'Good'),\n",
       " ('CLINTON', 'REMARKS'),\n",
       " ('CLINTON', 'Thank'),\n",
       " ('CLINTON', 'Well'),\n",
       " ('CLOSED', 'PRESS'),\n",
       " ('CNPC', 'NIOC'),\n",
       " ('COIN', 'strategy'),\n",
       " ('COIN', 'theory'),\n",
       " ('COME', 'coming'),\n",
       " ('COMPREHENSIVE', 'APPROACH'),\n",
       " ('CONCEPT', 'NOTE'),\n",
       " ('CTBTO', 'Article'),\n",
       " ('Cabinet', 'secretaries'),\n",
       " ('Cairo', 'speech'),\n",
       " ('Cairo', 'would'),\n",
       " ('California', 'letter'),\n",
       " ('Calio', 'Citigroup'),\n",
       " ('Call', 'Sheet'),\n",
       " ('Call', 'berry'),\n",
       " ('Call', 'home'),\n",
       " ('Call', 'main'),\n",
       " ('Call', 'sheet'),\n",
       " ('Call', 'sheets'),\n",
       " ('Camera', 'Spray'),\n",
       " ('Camera', 'spray'),\n",
       " ('Cameron', 'Munter'),\n",
       " ('Cameron', 'Without'),\n",
       " ('Cameron', 'breathed'),\n",
       " ('Cameron', 'consistently'),\n",
       " ('Cameron', 'danger'),\n",
       " ('Cameron', 'either'),\n",
       " ('Cameron', 'elite'),\n",
       " ('Cameron', 'given'),\n",
       " ('Cameron', 'insisted'),\n",
       " ('Cameron', 'last'),\n",
       " ('Cameron', 'learning'),\n",
       " ('Cameron', 'must'),\n",
       " ('Cameron', 'would'),\n",
       " ('Camp', 'David'),\n",
       " ('Campaign', 'Committee'),\n",
       " ('Campbell', 'Perhaps'),\n",
       " ('Campbell', 'surely'),\n",
       " ('Canada', 'Europe'),\n",
       " ('Cancer', 'Advisory'),\n",
       " ('Cancun', 'Agreements'),\n",
       " ('Cange', 'Central'),\n",
       " ('Cape', 'Verde'),\n",
       " ('Capitol', 'Hill'),\n",
       " ('Capitol', 'heard'),\n",
       " ('Capitol', 'steps'),\n",
       " ('Capricia', 'Verveer'),\n",
       " ('Capricia', 'event'),\n",
       " ('Care', 'Reform'),\n",
       " ('Caribbean', 'McKinsey'),\n",
       " ('Carl', 'Levin'),\n",
       " ('Carla', 'Bruni'),\n",
       " ('Carleto', 'Bailey'),\n",
       " ('Carleto', 'partner'),\n",
       " ('Carleto', 'says'),\n",
       " ('Carlos', 'Pascual'),\n",
       " ('Carnegie', 'Endowment'),\n",
       " ('Cars', 'Holidays'),\n",
       " ('Carter', 'Strategy'),\n",
       " ('Carter', 'administration'),\n",
       " ('Carter', 'would'),\n",
       " ('Cartwright', 'vice'),\n",
       " ('Cassandra', 'Butts'),\n",
       " ('Castle', 'outside'),\n",
       " ('Cath', 'Democrat'),\n",
       " ('Cath', 'TREND'),\n",
       " ('Cath', 'Worn'),\n",
       " ('Catherine', 'Ashton'),\n",
       " ('Catholic', 'Bishops'),\n",
       " ('Catholic', 'Church'),\n",
       " ('Catholic', 'Relief'),\n",
       " ('Catholic', 'nuns'),\n",
       " ('Catholics', 'domestically'),\n",
       " ('Cathy', 'Ashton'),\n",
       " ('Cato', 'Institute'),\n",
       " ('Center', 'America'),\n",
       " ('Center', 'American'),\n",
       " ('Center', 'Public'),\n",
       " ('Center', 'Research'),\n",
       " ('Center', 'Scholars'),\n",
       " ('Center', 'Security'),\n",
       " ('Center', 'Strategic'),\n",
       " ('Center', 'others'),\n",
       " ('Center', 'reach'),\n",
       " ('Central', 'America'),\n",
       " ('Central', 'Asia'),\n",
       " ('Central', 'Command'),\n",
       " ('Central', 'Intelligence'),\n",
       " ('Central', 'Plateau'),\n",
       " ('Chaharmahal', 'Bakhtiari'),\n",
       " ('Chairman', 'Joint'),\n",
       " ('Challenge', 'Corporation'),\n",
       " ('Challenges', 'Ahead'),\n",
       " ('Chamber', 'Commerce'),\n",
       " ('Channel', 'struggled'),\n",
       " ('Chappaqua', 'Lona'),\n",
       " ('Charles', 'Clarke'),\n",
       " ('Charles', 'David'),\n",
       " ('Charles', 'Grassley'),\n",
       " ('Charles', 'Koch'),\n",
       " ('Charles', 'Lewis'),\n",
       " ('Charles', 'runs'),\n",
       " ('Charlie', 'Flynn'),\n",
       " ('Charlie', 'Rose'),\n",
       " ('Chatham', 'House'),\n",
       " ('Cheat', 'Sheet'),\n",
       " ('Cheney', 'remarked'),\n",
       " ('Cherie', 'Blair'),\n",
       " ('Cherie', 'Booth'),\n",
       " ('Cheryl', 'Abedin'),\n",
       " ('Cheryl', 'Doug'),\n",
       " ('Cheryl', 'Huma'),\n",
       " ('Cheryl', 'Jake'),\n",
       " ('Cheryl', 'Mills'),\n",
       " ('Cheryl', 'MillsCD©stategov'),\n",
       " ('Cheryl', 'Paul'),\n",
       " ('Cheryl', 'Sullivan'),\n",
       " ('Cheryl', 'asked'),\n",
       " ('Cheryl', 'want'),\n",
       " ('Chester', 'Crocker'),\n",
       " ('Chet', 'Crocker'),\n",
       " ('Chicago', 'best'),\n",
       " ('Chicago', 'crowd'),\n",
       " ('Chicago', 'mayor'),\n",
       " ('Chicago', 'pols'),\n",
       " ('Chico', 'Menashe'),\n",
       " ('Chief', 'Executive'),\n",
       " ('Chief', 'Mission'),\n",
       " ('Chief', 'Scientist'),\n",
       " ('Chief', 'Staff'),\n",
       " ('Chiefs', 'Staff'),\n",
       " ('Chihuahua', 'City'),\n",
       " ('Chihuahua', 'state'),\n",
       " ('China', 'China'),\n",
       " ('China', 'Europe'),\n",
       " ('China', 'India'),\n",
       " ('China', 'Iran'),\n",
       " ('China', 'Japan'),\n",
       " ('China', 'Obama'),\n",
       " ('China', 'Russia'),\n",
       " ('China', 'Secretary'),\n",
       " ('China', 'able'),\n",
       " ('China', 'become'),\n",
       " ('China', 'believe'),\n",
       " ('China', 'could'),\n",
       " ('China', 'country'),\n",
       " ('China', 'currency'),\n",
       " ('China', 'decision'),\n",
       " ('China', 'dumped'),\n",
       " ('China', 'economic'),\n",
       " ('China', 'economy'),\n",
       " ('China', 'exports'),\n",
       " ('China', 'finance'),\n",
       " ('China', 'growth'),\n",
       " ('China', 'little'),\n",
       " ('China', 'need'),\n",
       " ('China', 'policies'),\n",
       " ('China', 'policy'),\n",
       " ('China', 'rest'),\n",
       " ('China', 'right'),\n",
       " ('China', 'state'),\n",
       " ('China', 'tried'),\n",
       " ('China', 'would'),\n",
       " ('Chinese', 'authorities'),\n",
       " ('Chinese', 'currency'),\n",
       " ('Chinese', 'delegate'),\n",
       " ('Chinese', 'economic'),\n",
       " ('Chinese', 'government'),\n",
       " ('Chinese', 'know'),\n",
       " ('Chinese', 'leaders'),\n",
       " ('Chinese', 'mercantilism'),\n",
       " ('Chinese', 'naval'),\n",
       " ('Chinese', 'officials'),\n",
       " ('Chinese', 'people'),\n",
       " ('Chinese', 'president'),\n",
       " ('Chinese', 'thinking'),\n",
       " ('Chinese', 'would'),\n",
       " ('Chris', 'Dodd'),\n",
       " ('Chris', 'Hill'),\n",
       " ('Chris', 'Sean'),\n",
       " ('Chris', 'Stevens'),\n",
       " ('Chris', 'committed'),\n",
       " ('Chris', 'first'),\n",
       " ('Chris', 'post'),\n",
       " ('Chris', 'team'),\n",
       " ('Christian', 'Dominionists'),\n",
       " ('Christian', 'Right'),\n",
       " ('Christian', 'Science'),\n",
       " ('Christian', 'right'),\n",
       " ('Christians', 'beaten'),\n",
       " ('Christians', 'would'),\n",
       " ('Christopher', 'Stevens'),\n",
       " ('Chronic', 'hunger'),\n",
       " ('Church', 'efforts'),\n",
       " ('Churchill', 'Franklin'),\n",
       " ('Cingular', 'Xpress'),\n",
       " ('Citizens', 'Protection'),\n",
       " ('Citizens', 'Sound'),\n",
       " ('Citizens', 'United'),\n",
       " ('City', 'Council'),\n",
       " ('City', 'Hall'),\n",
       " ('City', 'University'),\n",
       " ('City', 'police'),\n",
       " ('City', 'show'),\n",
       " ('Ciudad', 'Juarez'),\n",
       " ('Civil', 'Political'),\n",
       " ('Civil', 'calling'),\n",
       " ('Claiming', 'protect'),\n",
       " ('Claire', 'Coleman'),\n",
       " ('Claire', 'Floor'),\n",
       " ('Claire', 'McCaskill'),\n",
       " ('Clarus', 'Research'),\n",
       " ('Clarus', 'president'),\n",
       " ('Clause', 'Crime'),\n",
       " ('Clear', 'World'),\n",
       " ('Cleaver', 'ascended'),\n",
       " ('Clegg', 'said'),\n",
       " ('Climate', 'Change'),\n",
       " ('Clinton', 'Administration'),\n",
       " ('Clinton', 'Conservatives'),\n",
       " ('Clinton', 'Defense'),\n",
       " ('Clinton', 'Doctrine'),\n",
       " ('Clinton', 'Foundation'),\n",
       " ('Clinton', 'Frankly'),\n",
       " ('Clinton', 'Gates'),\n",
       " ('Clinton', 'Global'),\n",
       " ('Clinton', 'Monday'),\n",
       " ('Clinton', 'Obama'),\n",
       " ('Clinton', 'Republican'),\n",
       " ('Clinton', 'Secretary'),\n",
       " ('Clinton', 'Thank'),\n",
       " ('Clinton', 'White'),\n",
       " ('Clinton', 'actually'),\n",
       " ('Clinton', 'added'),\n",
       " ('Clinton', 'administration'),\n",
       " ('Clinton', 'also'),\n",
       " ('Clinton', 'approval'),\n",
       " ('Clinton', 'become'),\n",
       " ('Clinton', 'believes'),\n",
       " ('Clinton', 'called'),\n",
       " ('Clinton', 'campaign'),\n",
       " ('Clinton', 'cautious'),\n",
       " ('Clinton', 'chief'),\n",
       " ('Clinton', 'could'),\n",
       " ('Clinton', 'delivered'),\n",
       " ('Clinton', 'described'),\n",
       " ('Clinton', 'drew'),\n",
       " ('Clinton', 'established'),\n",
       " ('Clinton', 'family'),\n",
       " ('Clinton', 'first'),\n",
       " ('Clinton', 'high'),\n",
       " ('Clinton', 'highlighting'),\n",
       " ('Clinton', 'hope'),\n",
       " ('Clinton', 'instructed'),\n",
       " ('Clinton', 'introduced'),\n",
       " ('Clinton', 'last'),\n",
       " ('Clinton', 'left'),\n",
       " ('Clinton', 'long'),\n",
       " ('Clinton', 'lost'),\n",
       " ('Clinton', 'made'),\n",
       " ('Clinton', 'mirrors'),\n",
       " ('Clinton', 'moved'),\n",
       " ('Clinton', 'much'),\n",
       " ('Clinton', 'must'),\n",
       " ('Clinton', 'name'),\n",
       " ('Clinton', 'need'),\n",
       " ('Clinton', 'official'),\n",
       " ('Clinton', 'particularly'),\n",
       " ('Clinton', 'president'),\n",
       " ('Clinton', 'presidential'),\n",
       " ('Clinton', 'promised'),\n",
       " ('Clinton', 'real'),\n",
       " ('Clinton', 'received'),\n",
       " ('Clinton', 'recent'),\n",
       " ('Clinton', 'remarks'),\n",
       " ('Clinton', 'said'),\n",
       " ('Clinton', 'says'),\n",
       " ('Clinton', 'secretary'),\n",
       " ('Clinton', 'seemed'),\n",
       " ('Clinton', 'speech'),\n",
       " ('Clinton', 'staff'),\n",
       " ('Clinton', 'thought'),\n",
       " ('Clinton', 'told'),\n",
       " ('Clinton', 'traveled'),\n",
       " ('Clinton', 'urged'),\n",
       " ('Clinton', 'used'),\n",
       " ('Clinton', 'wanted'),\n",
       " ('Clinton', 'wrote'),\n",
       " ('Closed', 'Press'),\n",
       " ('Club', 'instance'),\n",
       " ('Cluster', 'process'),\n",
       " ('Cntrl', 'NrthE'),\n",
       " ('Coats', 'Families'),\n",
       " ('Coleman', 'Office'),\n",
       " ('Colin', 'Powell'),\n",
       " ('Coll', 'BrnAgn'),\n",
       " ('Collectiva', 'Antigona'),\n",
       " ('College', 'Jeff'),\n",
       " ('College', 'women'),\n",
       " ('Collins', 'Maine'),\n",
       " ('Colonel', 'House'),\n",
       " ('Colonel', 'Qaddafi'),\n",
       " ('Colorado', 'demonstrated'),\n",
       " ('Colosio', 'Valle'),\n",
       " ('Columbia', 'University'),\n",
       " ('Columbia', 'early'),\n",
       " ('Combat', 'Outpost'),\n",
       " ('Come', 'havent'),\n",
       " ('Comfort', 'ship'),\n",
       " ('Commander', 'Chief'),\n",
       " ('Commission', 'body'),\n",
       " ('Committee', 'AIPAC'),\n",
       " ('Committee', 'Chairman'),\n",
       " ('Committee', 'Education'),\n",
       " ('Committee', 'Guest'),\n",
       " ('Committee', 'chairman'),\n",
       " ('Committee', 'late'),\n",
       " ('Commonwealth', 'Office'),\n",
       " ('Communist', 'Party'),\n",
       " ('Community', 'College'),\n",
       " ('Community', 'Democracies'),\n",
       " ('Compact', 'Review'),\n",
       " ('Company', 'NICO'),\n",
       " ('Company', 'NIOC'),\n",
       " ('Compound', 'Navy'),\n",
       " ('Comprehensive', 'Africa'),\n",
       " ('Condi', 'Rice'),\n",
       " ('Conditions', 'Please'),\n",
       " ('Conference', 'Catholic'),\n",
       " ...]"
      ]
     },
     "execution_count": 17,
     "metadata": {},
     "output_type": "execute_result"
    }
   ],
   "source": [
    "sorted(finder.above_score(bigram_measures.raw_freq, 1.0 / len(tuple(nltk.bigrams(tokens)))))"
   ]
  },
  {
   "cell_type": "code",
   "execution_count": 18,
   "metadata": {
    "collapsed": false
   },
   "outputs": [
    {
     "data": {
      "text/plain": [
       "[('United', 'States'), ('White', 'House')]"
      ]
     },
     "execution_count": 18,
     "metadata": {},
     "output_type": "execute_result"
    }
   ],
   "source": [
    "sorted(finder.nbest(bigram_measures.raw_freq, 2))"
   ]
  },
  {
   "cell_type": "markdown",
   "metadata": {},
   "source": [
    "Получили те же наиболее часто встречающиеся биграммы."
   ]
  },
  {
   "cell_type": "markdown",
   "metadata": {},
   "source": [
    "## Кластеризация писем"
   ]
  },
  {
   "cell_type": "markdown",
   "metadata": {},
   "source": [
    "Сформируем признаки."
   ]
  },
  {
   "cell_type": "code",
   "execution_count": 13,
   "metadata": {
    "collapsed": true
   },
   "outputs": [],
   "source": [
    "texts = list(text.lower().replace('\\n', '') for index, text in data.bodyProc.iteritems())\n",
    "preproc_texts = list(' '.join(elem for elem in list(filter(lambda token: token not in stopset and len(token) > 3, word_tokenize(text))))\n",
    "                     for text in texts)"
   ]
  },
  {
   "cell_type": "code",
   "execution_count": 14,
   "metadata": {
    "collapsed": true
   },
   "outputs": [],
   "source": [
    "preproc_texts = list(''.join(elem for elem in list(filter(lambda c: c not in punctset, list(text)))) for text in preproc_texts)"
   ]
  },
  {
   "cell_type": "code",
   "execution_count": 15,
   "metadata": {
    "collapsed": true
   },
   "outputs": [],
   "source": [
    "from sklearn.feature_extraction.text import CountVectorizer, TfidfVectorizer\n",
    "\n",
    "vectorizer = TfidfVectorizer(max_df=500, min_df=10)\n",
    "object_feature = vectorizer.fit_transform(preproc_texts)"
   ]
  },
  {
   "cell_type": "code",
   "execution_count": 16,
   "metadata": {
    "collapsed": false
   },
   "outputs": [
    {
     "name": "stdout",
     "output_type": "stream",
     "text": [
      "(7945, 2673)\n"
     ]
    }
   ],
   "source": [
    "print(object_feature.shape)"
   ]
  },
  {
   "cell_type": "code",
   "execution_count": 19,
   "metadata": {
    "collapsed": true
   },
   "outputs": [],
   "source": [
    "from sklearn.decomposition import TruncatedSVD\n",
    "svd = TruncatedSVD(n_components=1000, random_state=123)\n",
    "features = svd.fit_transform(object_feature)"
   ]
  },
  {
   "cell_type": "code",
   "execution_count": 15,
   "metadata": {
    "collapsed": true
   },
   "outputs": [],
   "source": [
    "# dbscan\n",
    "# Latent Dirichlet Allocation?? -> sklearn"
   ]
  },
  {
   "cell_type": "code",
   "execution_count": 17,
   "metadata": {
    "collapsed": true
   },
   "outputs": [],
   "source": [
    "from sklearn.metrics.pairwise import cosine_similarity\n",
    "dist = 1 - cosine_similarity(object_feature)"
   ]
  },
  {
   "cell_type": "code",
   "execution_count": null,
   "metadata": {
    "collapsed": true
   },
   "outputs": [],
   "source": []
  },
  {
   "cell_type": "markdown",
   "metadata": {},
   "source": [
    "### Кластеризация"
   ]
  },
  {
   "cell_type": "markdown",
   "metadata": {},
   "source": [
    "Кластеризуем по токенам и сообщения, и темы"
   ]
  },
  {
   "cell_type": "code",
   "execution_count": 19,
   "metadata": {
    "collapsed": false
   },
   "outputs": [
    {
     "name": "stdout",
     "output_type": "stream",
     "text": [
      "(7945, 1596)\n"
     ]
    }
   ],
   "source": [
    "from sklearn.feature_extraction.text import CountVectorizer, TfidfVectorizer\n",
    "\n",
    "vectorizer = TfidfVectorizer(max_df=0.5, min_df=25)\n",
    "matrix = vectorizer.fit_transform(data.subjectProc + '\\n' + data.bodyProc)\n",
    "\n",
    "print(matrix.shape)"
   ]
  },
  {
   "cell_type": "code",
   "execution_count": 20,
   "metadata": {
    "collapsed": false
   },
   "outputs": [
    {
     "name": "stdout",
     "output_type": "stream",
     "text": [
      "Wall time: 1min 12s\n"
     ]
    }
   ],
   "source": [
    "%%time\n",
    "from sklearn.cluster.hierarchical import AgglomerativeClustering\n",
    "from sklearn.cluster import KMeans\n",
    "\n",
    "N_CLUSTERS = 4\n",
    "model = AgglomerativeClustering(n_clusters=N_CLUSTERS, affinity='euclidean', linkage='complete')\n",
    "#model = KMeans(n_clusters=N_CLUSTERS, random_state=1)\n",
    "data.preds = model.fit_predict(matrix.toarray())"
   ]
  },
  {
   "cell_type": "markdown",
   "metadata": {},
   "source": [
    "В качестве визуализации можно использовать тему письма, самого близкого к \"центру\" класса, среднего вектора кластера"
   ]
  },
  {
   "cell_type": "code",
   "execution_count": 23,
   "metadata": {
    "collapsed": false
   },
   "outputs": [
    {
     "name": "stderr",
     "output_type": "stream",
     "text": [
      "C:\\Anaconda3\\lib\\site-packages\\ipykernel\\__main__.py:8: RuntimeWarning: invalid value encountered in true_divide\n",
      "C:\\Anaconda3\\lib\\site-packages\\ipykernel\\__main__.py:8: RuntimeWarning: invalid value encountered in arccos\n"
     ]
    },
    {
     "name": "stdout",
     "output_type": "stream",
     "text": [
      "USGLC PRAISES SECRETARY CLINTON\n",
      "RICHARD (TNR)\n",
      "PUTIN TAGS POLAR BEAR IN ARCTIC\n",
      "BLANK\n"
     ]
    }
   ],
   "source": [
    "import numpy as np\n",
    "for i in range(0, N_CLUSTERS):\n",
    "    pd_matrix = pd.DataFrame(matrix.toarray())[data.preds == i]\n",
    "    m = pd_matrix.mean()\n",
    "    xy = pd_matrix.apply(lambda x: np.multiply(x,m), axis=1).sum(axis=1)\n",
    "    xx = pd_matrix.apply(lambda x: x**2, axis=1).sum(axis=1)\n",
    "    yy = np.sum(m * m)\n",
    "    print(data.subjectProc[np.arccos(np.divide(xy, np.multiply(xx, yy))).argmin()+1])"
   ]
  },
  {
   "cell_type": "code",
   "execution_count": 24,
   "metadata": {
    "collapsed": false
   },
   "outputs": [
    {
     "name": "stdout",
     "output_type": "stream",
     "text": [
      "0    6960\n",
      "1     437\n",
      "3     434\n",
      "2     114\n",
      "dtype: int64\n"
     ]
    }
   ],
   "source": [
    "print(pd.value_counts(data.preds))"
   ]
  }
 ],
 "metadata": {
  "kernelspec": {
   "display_name": "Python [default]",
   "language": "python",
   "name": "python3"
  },
  "language_info": {
   "codemirror_mode": {
    "name": "ipython",
    "version": 3
   },
   "file_extension": ".py",
   "mimetype": "text/x-python",
   "name": "python",
   "nbconvert_exporter": "python",
   "pygments_lexer": "ipython3",
   "version": "3.5.2"
  }
 },
 "nbformat": 4,
 "nbformat_minor": 2
}
