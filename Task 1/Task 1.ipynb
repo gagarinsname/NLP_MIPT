{
 "cells": [
  {
   "cell_type": "markdown",
   "metadata": {},
   "source": [
    "# Задание 1"
   ]
  },
  {
   "cell_type": "markdown",
   "metadata": {},
   "source": [
    "## Классификация текстов: спам-фильтр для SMS"
   ]
  },
  {
   "cell_type": "markdown",
   "metadata": {},
   "source": [
    "Считаем датасет в Python."
   ]
  },
  {
   "cell_type": "code",
   "execution_count": 4,
   "metadata": {
    "collapsed": false
   },
   "outputs": [],
   "source": [
    "import numpy as np\n",
    "data = np.genfromtxt('SMSSpamCollection.txt', dtype=None, delimiter='\\t')"
   ]
  },
  {
   "cell_type": "markdown",
   "metadata": {},
   "source": [
    "Подготовим два списка: список текстов в порядке их следования в датасете и список соответствующих им меток классов. Метка 1 соответствует спаму, метка 0 - \"не спаму\"."
   ]
  },
  {
   "cell_type": "code",
   "execution_count": 5,
   "metadata": {
    "collapsed": false
   },
   "outputs": [],
   "source": [
    "textdata = [[0 if elem[0].decode('utf8') == 'ham' else 1, elem[1].decode('utf8')] for elem in data]\n",
    "splitdata = [list(l) for l in zip(*textdata)]\n",
    "target, texts = splitdata"
   ]
  },
  {
   "cell_type": "markdown",
   "metadata": {},
   "source": [
    "Получим матрицу признаков X при помощи CountVectorizer из библиотеки sklearn."
   ]
  },
  {
   "cell_type": "code",
   "execution_count": 6,
   "metadata": {
    "collapsed": false
   },
   "outputs": [],
   "source": [
    "from sklearn.feature_extraction.text import CountVectorizer\n",
    "sfecv = CountVectorizer()\n",
    "X = sfecv.fit_transform(texts)"
   ]
  },
  {
   "cell_type": "markdown",
   "metadata": {},
   "source": [
    "Используем логистическую регрессию для классификации данного набора текстов."
   ]
  },
  {
   "cell_type": "code",
   "execution_count": 7,
   "metadata": {
    "collapsed": true
   },
   "outputs": [],
   "source": [
    "from sklearn.linear_model import LogisticRegression\n",
    "lrc = LogisticRegression(random_state=241)"
   ]
  },
  {
   "cell_type": "markdown",
   "metadata": {},
   "source": [
    "Оценим качество классификации при помощи кросс-валидации с 10 фолдами."
   ]
  },
  {
   "cell_type": "code",
   "execution_count": 8,
   "metadata": {
    "collapsed": false
   },
   "outputs": [
    {
     "name": "stdout",
     "output_type": "stream",
     "text": [
      "Mean score: 0.933419572279\n"
     ]
    }
   ],
   "source": [
    "from sklearn.model_selection import cross_val_score\n",
    "scores = cross_val_score(lrc, X, target, scoring='f1', cv=10)\n",
    "print('Mean score:', scores.mean())"
   ]
  },
  {
   "cell_type": "markdown",
   "metadata": {},
   "source": [
    "Обучим классификатор на всей выборке и спрогнозируем с его помощью класс для следующих сообщений:"
   ]
  },
  {
   "cell_type": "code",
   "execution_count": 9,
   "metadata": {
    "collapsed": false
   },
   "outputs": [
    {
     "name": "stdout",
     "output_type": "stream",
     "text": [
      "[1 1 0 0 0]\n"
     ]
    }
   ],
   "source": [
    "messages = [\n",
    "    \"FreeMsg: Txt: CALL to No: 86888 & claim your reward of 3 hours talk time to use from your phone now! Subscribe6GB\",\n",
    "    \"FreeMsg: Txt: claim your reward of 3 hours talk time\",\n",
    "    \"Have you visited the last lecture on physics?\", \n",
    "    \"Have you visited the last lecture on physics? Just buy this book and you will have all materials! Only 99$\", \n",
    "    \"Only 99$\"\n",
    "]\n",
    "lrc.fit(X, target)\n",
    "res = lrc.predict(sfecv.transform(messages))\n",
    "print(res)"
   ]
  },
  {
   "cell_type": "markdown",
   "metadata": {},
   "source": [
    "Исследуем качество классификации при помощи линейного классификатора при использовании биграмм, триграмм и n-грамм при n=[1,3]."
   ]
  },
  {
   "cell_type": "code",
   "execution_count": 10,
   "metadata": {
    "collapsed": false
   },
   "outputs": [
    {
     "name": "stdout",
     "output_type": "stream",
     "text": [
      "[0.93, 0.82, 0.72, 0.92]\n"
     ]
    }
   ],
   "source": [
    "ngrammcombs = [(1,1),(2,2), (3,3), (1,3)]\n",
    "LR_ngscores = []\n",
    "for ng_range in ngrammcombs:\n",
    "    vect = CountVectorizer(ngram_range=ng_range)\n",
    "    X = vect.fit_transform(texts)\n",
    "    LR_ngscores.append(cross_val_score(lrc, X, target, scoring='f1', cv=10).mean())\n",
    "\n",
    "# Ответ\n",
    "print([float(\"{0:0.2f}\".format(i)) for i in LR_ngscores])"
   ]
  },
  {
   "cell_type": "markdown",
   "metadata": {},
   "source": [
    "Используем наивный Байес вместо логистической регрессии."
   ]
  },
  {
   "cell_type": "code",
   "execution_count": 11,
   "metadata": {
    "collapsed": false
   },
   "outputs": [
    {
     "name": "stdout",
     "output_type": "stream",
     "text": [
      "[0.93, 0.64, 0.38, 0.89]\n"
     ]
    }
   ],
   "source": [
    "from sklearn.naive_bayes import MultinomialNB\n",
    "nbc = MultinomialNB()\n",
    "\n",
    "NB_ngscores = []\n",
    "for ng_range in ngrammcombs:\n",
    "    vect = CountVectorizer(ngram_range=ng_range)\n",
    "    X = vect.fit_transform(texts)\n",
    "    NB_ngscores.append(cross_val_score(nbc, X, target, scoring='f1', cv=10).mean())\n",
    "\n",
    "# Ответ\n",
    "print([float(\"{0:0.2f}\".format(i)) for i in NB_ngscores])"
   ]
  },
  {
   "cell_type": "markdown",
   "metadata": {},
   "source": [
    "Используем в качестве признаков в логистической регрессии Tf*idf из Tfidfvectorizer на униграммах."
   ]
  },
  {
   "cell_type": "code",
   "execution_count": 12,
   "metadata": {
    "collapsed": false
   },
   "outputs": [
    {
     "name": "stdout",
     "output_type": "stream",
     "text": [
      "Mean score: 0.85.\n"
     ]
    }
   ],
   "source": [
    "from sklearn.feature_extraction.text import TfidfVectorizer\n",
    "tfidfv = TfidfVectorizer(ngram_range=(1,1))\n",
    "X = tfidfv.fit_transform(texts)\n",
    "print('Mean score: {0:0.2f}.'.format(cross_val_score(lrc, X, target, scoring='f1', cv=10).mean()))"
   ]
  },
  {
   "cell_type": "markdown",
   "metadata": {},
   "source": [
    "Качество на кросс-валидации понизилось (0.85 < 0.93) по сравнению с CountVectorizer() на униграммах."
   ]
  },
  {
   "cell_type": "markdown",
   "metadata": {},
   "source": [
    "### Попробуем повысить качество на кросс-валидации."
   ]
  },
  {
   "cell_type": "markdown",
   "metadata": {},
   "source": [
    "1) Попробуем осуществить поиск оптимальных параметров для коэффициента и типа регуляризации. Это может несколько повысить качество классификации."
   ]
  },
  {
   "cell_type": "markdown",
   "metadata": {},
   "source": [
    "Используем результат CountVectorizer() в качестве признаков для логистической регрессии."
   ]
  },
  {
   "cell_type": "code",
   "execution_count": 13,
   "metadata": {
    "collapsed": false
   },
   "outputs": [
    {
     "name": "stdout",
     "output_type": "stream",
     "text": [
      "{'C': 100.0, 'penalty': 'l2'}\n",
      "Mean score: 0.944157839942\n"
     ]
    }
   ],
   "source": [
    "from sklearn.model_selection import GridSearchCV\n",
    "\n",
    "X = sfecv.fit_transform(texts)\n",
    "param_grid = {\n",
    "    'penalty': ['l1', 'l2'],\n",
    "    'C': [1e-6, 1e-4, 1e-2, 1, 1e2, 1e4, 1e6]\n",
    "    }\n",
    "gscv = GridSearchCV(lrc, param_grid, cv=10)\n",
    "gscv.fit(X,target)\n",
    "print(gscv.best_params_)\n",
    "print('Mean score:', cross_val_score(gscv.best_estimator_, X, target, scoring='f1', cv=10).mean())"
   ]
  },
  {
   "cell_type": "code",
   "execution_count": 14,
   "metadata": {
    "collapsed": false
   },
   "outputs": [
    {
     "name": "stdout",
     "output_type": "stream",
     "text": [
      "[1 1 0 0 0]\n"
     ]
    }
   ],
   "source": [
    "res = gscv.best_estimator_.predict(sfecv.transform(messages))\n",
    "print(res)"
   ]
  },
  {
   "cell_type": "markdown",
   "metadata": {},
   "source": [
    "По результатам GridSearchCV можно сделать вывод, что первоначальная регуляризация в линейной модели была черезмерно строга, поскольку увеличение коэффициента C (уменьшение коэффициента регуляризации) привело к повышению качества на кросс-валидации."
   ]
  },
  {
   "cell_type": "markdown",
   "metadata": {},
   "source": [
    "2) Предобработка текста"
   ]
  },
  {
   "cell_type": "code",
   "execution_count": 16,
   "metadata": {
    "collapsed": true
   },
   "outputs": [],
   "source": [
    "from nltk.tokenize import word_tokenize, sent_tokenize\n",
    "from nltk.corpus import stopwords\n",
    "from nltk.stem import PorterStemmer\n",
    "from nltk.stem import WordNetLemmatizer\n",
    "\n",
    "ps = PorterStemmer()\n",
    "lemmatizer = WordNetLemmatizer()"
   ]
  },
  {
   "cell_type": "markdown",
   "metadata": {},
   "source": [
    "Методы:\n",
    "- приведение к нижнему регистру\n",
    "- удалние стоп-слов\n",
    "- лемматизация\n",
    "- стэмминг\n",
    "\n"
   ]
  },
  {
   "cell_type": "code",
   "execution_count": 19,
   "metadata": {
    "collapsed": false
   },
   "outputs": [
    {
     "name": "stdout",
     "output_type": "stream",
     "text": [
      "Go until jurong point, crazy.. Available only in bugis n great world la e buffet... Cine there got amore wat...\n",
      "go jurong point , crazy.. avail bugi n great world la e buffet ... cine got amor wat ...\n"
     ]
    }
   ],
   "source": [
    "processed_texts = [(' '.join([ps.stem(lemmatizer.lemmatize(lemmatizer.lemmatize(x,pos='a'))).lower() for x in word_tokenize(y) if x not in stopwords.words(\"english\")])) for y in texts]\n",
    "\n",
    "# A few examples:\n",
    "print(texts[0])\n",
    "print(processed_texts[0])"
   ]
  },
  {
   "cell_type": "code",
   "execution_count": 35,
   "metadata": {
    "collapsed": true
   },
   "outputs": [],
   "source": [
    "X_proc_tf = tfidfv.fit_transform(processed_texts)\n",
    "X_proc_cv = sfecv.fit_transform(processed_texts)"
   ]
  },
  {
   "cell_type": "markdown",
   "metadata": {},
   "source": [
    "Результаты на кросс-валидации с наилучшими параметрами."
   ]
  },
  {
   "cell_type": "code",
   "execution_count": 36,
   "metadata": {
    "collapsed": false
   },
   "outputs": [
    {
     "name": "stdout",
     "output_type": "stream",
     "text": [
      "CountVectorizer: 0.934619191385\n",
      "TF-IDF: 0.83999258071\n"
     ]
    }
   ],
   "source": [
    "print('CountVectorizer:', cross_val_score(lrc,X_proc_cv,target,cv=10, scoring='f1').mean())\n",
    "print('TF-IDF:', cross_val_score(lrc,X_proc_tf,target,cv=10, scoring='f1').mean())"
   ]
  },
  {
   "cell_type": "code",
   "execution_count": 38,
   "metadata": {
    "collapsed": false
   },
   "outputs": [
    {
     "name": "stdout",
     "output_type": "stream",
     "text": [
      "CountVectorizer on tuned LogisticRegression: 0.943519745604\n",
      "Best params: {'C': 100.0, 'penalty': 'l2'}\n"
     ]
    }
   ],
   "source": [
    "gscv.fit(X_proc_cv, target)\n",
    "print('CountVectorizer on tuned LogisticRegression:', cross_val_score(gscv.best_estimator_,X_proc_cv,target,cv=10, scoring='f1').mean())\n",
    "print('Best params:', gscv.best_params_)"
   ]
  },
  {
   "cell_type": "markdown",
   "metadata": {},
   "source": [
    "При использовании CountVestorizer улучшение незначительно. При использовании TF-IDF наблюдается снижение качества классификации.\n",
    "Используем удаление стоп-слов + приведение к нижнему регистру + стэмминг:"
   ]
  },
  {
   "cell_type": "code",
   "execution_count": 31,
   "metadata": {
    "collapsed": true
   },
   "outputs": [],
   "source": [
    "processed_texts_2 = [(' '.join([ps.stem(x).lower() for x in word_tokenize(y) if x not in stopwords.words(\"english\")])) for y in texts]"
   ]
  },
  {
   "cell_type": "code",
   "execution_count": 39,
   "metadata": {
    "collapsed": false
   },
   "outputs": [
    {
     "name": "stdout",
     "output_type": "stream",
     "text": [
      "CountVectorizer 0.943519745604\n"
     ]
    }
   ],
   "source": [
    "lrc_best = LogisticRegression(C=100, penalty='l2')\n",
    "X_proc_cv = sfecv.fit_transform(processed_texts_2)\n",
    "print('CountVectorizer', cross_val_score(lrc_best,X_proc_cv,target,cv=10, scoring='f1').mean())"
   ]
  },
  {
   "cell_type": "markdown",
   "metadata": {},
   "source": [
    "Используем удаление стоп-слов + приведение к нижнему регистру + лемматизацию:"
   ]
  },
  {
   "cell_type": "code",
   "execution_count": 40,
   "metadata": {
    "collapsed": true
   },
   "outputs": [],
   "source": [
    "processed_texts_3 = [(' '.join([lemmatizer.lemmatize(x).lower() for x in word_tokenize(y) if x not in stopwords.words(\"english\")])) for y in texts]"
   ]
  },
  {
   "cell_type": "code",
   "execution_count": 41,
   "metadata": {
    "collapsed": false
   },
   "outputs": [
    {
     "name": "stdout",
     "output_type": "stream",
     "text": [
      "CountVectorizer 0.930783911385\n"
     ]
    }
   ],
   "source": [
    "X_proc_cv = tfidfv.fit_transform(processed_texts_3)\n",
    "print('CountVectorizer', cross_val_score(lrc_best,X_proc_cv,target,cv=10, scoring='f1').mean())"
   ]
  },
  {
   "cell_type": "markdown",
   "metadata": {},
   "source": [
    "## Выводы"
   ]
  },
  {
   "cell_type": "markdown",
   "metadata": {
    "collapsed": true
   },
   "source": [
    "- Для задачи бинарной классификации текстов SMS-сообщений CountVectorizer лучше подходит в качестве способа отбора признаков, нежели TfidfVectorizer.\n",
    "- Линейная модель логистической регрессии лучше справилась с задачей классификации, чем наивный Байесовский классификатор (в обоих случаях использовались стандартные параметры).\n",
    "- Предварительная обработка текста, такая как, например, приведение к нижнему регистру, стэмминг и лемматизация, может несколько повысить точность классификации."
   ]
  }
 ],
 "metadata": {
  "anaconda-cloud": {},
  "kernelspec": {
   "display_name": "Python [conda root]",
   "language": "python",
   "name": "conda-root-py"
  },
  "language_info": {
   "codemirror_mode": {
    "name": "ipython",
    "version": 2
   },
   "file_extension": ".py",
   "mimetype": "text/x-python",
   "name": "python",
   "nbconvert_exporter": "python",
   "pygments_lexer": "ipython2",
   "version": "2.7.12"
  }
 },
 "nbformat": 4,
 "nbformat_minor": 1
}
